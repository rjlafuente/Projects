{
 "cells": [
  {
   "cell_type": "markdown",
   "id": "7d0ba24e-1ab0-45f2-8261-75a2f9a3825a",
   "metadata": {},
   "source": [
    "# Titanic Kaggle challenge"
   ]
  },
  {
   "cell_type": "markdown",
   "id": "27fcc743",
   "metadata": {},
   "source": [
    "*Last update: 06/10/2022*"
   ]
  },
  {
   "cell_type": "markdown",
   "id": "d124ad5a",
   "metadata": {},
   "source": [
    "The aim of this project is to build a classification model from the data of 891 passengers of the Titanic in order to predict the survival of another 418 passengers. \n",
    "\n",
    "My aim was to implement the logistic regression algorithm in different ways, and see the performance for each option.\n",
    "\n",
    "There are 3 main sections:\n",
    "- **Understanding the data**: Analysing the meaning of each feature and getting a general comprehension about the data.\n",
    "- **Preparing the data**: Filling empty data, giving numerical values to categorized data, data binning for numerical features and removal of features.\n",
    "- **Modelling with logistic regression**, with 2 approaches:\n",
    "    - First model: Coded from scratch.\n",
    "    - Second model: Built with the scikit-learn library.\n",
    "\n",
    "These models had an accuracy for the challenge data of:\n",
    "- First model: 77.751 %\n",
    "- Second model (sk-learn): 76.555 %\n",
    "\n",
    "The parameters of the model showed that:\n",
    "- **Factors most positive for survival** were, in order, being under 10 years old, particularly under 5, being a woman and being part of the first class passengers. This makes sense, as during the titanic tragedy small children and women were prioritized for the saving boats. Also third class passenger rooms were at the bottom of the boat so their chances were smaller than first class passengers, whose rooms where in the upper areas and had bigger chances of reaching the boat deck.\n",
    "- **Negative factors for survival** were, in order, being a male, a third class passenger, and being over 60 years old. Also, having several siblings or children had a negative impact. "
   ]
  },
  {
   "cell_type": "markdown",
   "id": "5ffd7119",
   "metadata": {},
   "source": [
    "# Table of contents\n",
    "\n",
    "* [Importing libraries and data](#import)\n",
    "\n",
    "* [Understanding the data](#understanding)\n",
    "\n",
    "* [Preparing the data](#preparing)\n",
    "    * [Numerical features](#numerical)\n",
    "        * [Age](#age)\n",
    "        * [Fare](#fare)\n",
    "        * [Number of siblings/spouses](#sibsp)\n",
    "        * [Number of parents/children](#parch)\n",
    "    * [Categorical features](#categorical)\n",
    "        * [Embarcation port](#embarked)\n",
    "        * [Passenger class](#pclass)\n",
    "        * [Sex](#sex)       \n",
    "    * [Removal of features: Name, Ticket and Cabin](#drop)\n",
    "    \n",
    "* [Modelling with logistic regression](#modelling)\n",
    "    * [Building and training the model](#building)\n",
    "        * [Learning curve](#curve)\n",
    "        * [Prediction for the challenge set](#prediction)\n",
    "    * [With Scikit-learn](#scikit)\n",
    "        * [Algorithm with default values](#default)\n",
    "        * [Algorithm with optimized parameter C](#optimized)"
   ]
  },
  {
   "cell_type": "markdown",
   "id": "65e0e1e9",
   "metadata": {},
   "source": [
    "## Importing libraries and data <a class=\"anchor\" id=\"import\"></a>"
   ]
  },
  {
   "cell_type": "code",
   "execution_count": 82,
   "id": "bf282242-1927-49cd-ac79-4e155ea9b589",
   "metadata": {},
   "outputs": [],
   "source": [
    "# Libraries\n",
    "import pandas as pd\n",
    "import numpy as np\n",
    "import re\n",
    "import matplotlib.pyplot as plt\n",
    "import seaborn as sns\n",
    "\n",
    "from scipy.stats import chi2_contingency\n",
    "from sklearn.model_selection import train_test_split"
   ]
  },
  {
   "cell_type": "code",
   "execution_count": 83,
   "id": "f12e19fc-a2bb-4e68-be35-d7b1d323d8de",
   "metadata": {},
   "outputs": [
    {
     "name": "stdout",
     "output_type": "stream",
     "text": [
      "The training set has 891 samples\n",
      "The challenge set has 418 samples\n"
     ]
    }
   ],
   "source": [
    "# Importing data\n",
    "df_titanic = pd.read_csv('train.csv') # Set to train the model\n",
    "df_prediction = pd.read_csv('test.csv') # Set for the challenge, in which predictions need to be made\n",
    "print(f\"The training set has {df_titanic.shape[0]} samples\")\n",
    "print(f\"The challenge set has {df_prediction.shape[0]} samples\")"
   ]
  },
  {
   "cell_type": "code",
   "execution_count": 84,
   "id": "6e38bb61",
   "metadata": {},
   "outputs": [],
   "source": [
    "# Merging both dataframes \"df_titanic\" and \"df_prediction\" into \"df\". Data will be prepared with \"df\", and split again \n",
    "# for the modelling phase\n",
    "survived_test = np.empty(df_prediction.shape[0])\n",
    "survived_test.fill(np.nan)\n",
    "df_prediction[\"Survived\"] = survived_test\n",
    "df = pd.concat([df_titanic,df_prediction])\n",
    "df.set_index('PassengerId',inplace=True)"
   ]
  },
  {
   "cell_type": "markdown",
   "id": "ab6f0689-a678-4cf4-9b68-edf9c87f6d06",
   "metadata": {
    "jp-MarkdownHeadingCollapsed": true,
    "tags": []
   },
   "source": [
    "## Understanding the data <a class=\"anchor\" id=\"understanding\"></a>"
   ]
  },
  {
   "cell_type": "markdown",
   "id": "2970e11b-a327-40e4-a9b9-6f18309496ef",
   "metadata": {},
   "source": [
    "This table from the Kaggle challenge explains the meaning of each feature: "
   ]
  },
  {
   "cell_type": "markdown",
   "id": "c74c8ab1-07a5-43cd-9998-b2f1dc088073",
   "metadata": {},
   "source": [
    "| Variable | Definition | Key |\n",
    "| --- | --- | --- |\n",
    "survival | Survival | 0 = No, 1 = Yes\n",
    "pclass | Ticket class | 1 = 1st, 2 = 2nd, 3 = 3rd\n",
    "sex | Sex |\n",
    "Age | Age in years | Age is fractional if less than 1. If the age is estimated, is it in the form of xx.5\n",
    "sibsp | # of siblings/spouses aboard the Titanic |\n",
    "parch | # of parents/children aboard the Titanic |\n",
    "ticket | Ticket number |\n",
    "fare | Passenger fare |\n",
    "cabin | Cabin number |\n",
    "embarked | Port of Embarcation | C = Cherbourg, Q = Queenstown, S = Southampton"
   ]
  },
  {
   "cell_type": "code",
   "execution_count": 85,
   "id": "5cbb30d1-0a21-4152-a5e8-10dd276766a6",
   "metadata": {},
   "outputs": [
    {
     "data": {
      "text/html": [
       "<div>\n",
       "<style scoped>\n",
       "    .dataframe tbody tr th:only-of-type {\n",
       "        vertical-align: middle;\n",
       "    }\n",
       "\n",
       "    .dataframe tbody tr th {\n",
       "        vertical-align: top;\n",
       "    }\n",
       "\n",
       "    .dataframe thead th {\n",
       "        text-align: right;\n",
       "    }\n",
       "</style>\n",
       "<table border=\"1\" class=\"dataframe\">\n",
       "  <thead>\n",
       "    <tr style=\"text-align: right;\">\n",
       "      <th></th>\n",
       "      <th>Survived</th>\n",
       "      <th>Pclass</th>\n",
       "      <th>Name</th>\n",
       "      <th>Sex</th>\n",
       "      <th>Age</th>\n",
       "      <th>SibSp</th>\n",
       "      <th>Parch</th>\n",
       "      <th>Ticket</th>\n",
       "      <th>Fare</th>\n",
       "      <th>Cabin</th>\n",
       "      <th>Embarked</th>\n",
       "    </tr>\n",
       "    <tr>\n",
       "      <th>PassengerId</th>\n",
       "      <th></th>\n",
       "      <th></th>\n",
       "      <th></th>\n",
       "      <th></th>\n",
       "      <th></th>\n",
       "      <th></th>\n",
       "      <th></th>\n",
       "      <th></th>\n",
       "      <th></th>\n",
       "      <th></th>\n",
       "      <th></th>\n",
       "    </tr>\n",
       "  </thead>\n",
       "  <tbody>\n",
       "    <tr>\n",
       "      <th>1</th>\n",
       "      <td>0.0</td>\n",
       "      <td>3</td>\n",
       "      <td>Braund, Mr. Owen Harris</td>\n",
       "      <td>male</td>\n",
       "      <td>22.0</td>\n",
       "      <td>1</td>\n",
       "      <td>0</td>\n",
       "      <td>A/5 21171</td>\n",
       "      <td>7.2500</td>\n",
       "      <td>NaN</td>\n",
       "      <td>S</td>\n",
       "    </tr>\n",
       "    <tr>\n",
       "      <th>2</th>\n",
       "      <td>1.0</td>\n",
       "      <td>1</td>\n",
       "      <td>Cumings, Mrs. John Bradley (Florence Briggs Th...</td>\n",
       "      <td>female</td>\n",
       "      <td>38.0</td>\n",
       "      <td>1</td>\n",
       "      <td>0</td>\n",
       "      <td>PC 17599</td>\n",
       "      <td>71.2833</td>\n",
       "      <td>C85</td>\n",
       "      <td>C</td>\n",
       "    </tr>\n",
       "    <tr>\n",
       "      <th>3</th>\n",
       "      <td>1.0</td>\n",
       "      <td>3</td>\n",
       "      <td>Heikkinen, Miss. Laina</td>\n",
       "      <td>female</td>\n",
       "      <td>26.0</td>\n",
       "      <td>0</td>\n",
       "      <td>0</td>\n",
       "      <td>STON/O2. 3101282</td>\n",
       "      <td>7.9250</td>\n",
       "      <td>NaN</td>\n",
       "      <td>S</td>\n",
       "    </tr>\n",
       "    <tr>\n",
       "      <th>4</th>\n",
       "      <td>1.0</td>\n",
       "      <td>1</td>\n",
       "      <td>Futrelle, Mrs. Jacques Heath (Lily May Peel)</td>\n",
       "      <td>female</td>\n",
       "      <td>35.0</td>\n",
       "      <td>1</td>\n",
       "      <td>0</td>\n",
       "      <td>113803</td>\n",
       "      <td>53.1000</td>\n",
       "      <td>C123</td>\n",
       "      <td>S</td>\n",
       "    </tr>\n",
       "    <tr>\n",
       "      <th>5</th>\n",
       "      <td>0.0</td>\n",
       "      <td>3</td>\n",
       "      <td>Allen, Mr. William Henry</td>\n",
       "      <td>male</td>\n",
       "      <td>35.0</td>\n",
       "      <td>0</td>\n",
       "      <td>0</td>\n",
       "      <td>373450</td>\n",
       "      <td>8.0500</td>\n",
       "      <td>NaN</td>\n",
       "      <td>S</td>\n",
       "    </tr>\n",
       "    <tr>\n",
       "      <th>...</th>\n",
       "      <td>...</td>\n",
       "      <td>...</td>\n",
       "      <td>...</td>\n",
       "      <td>...</td>\n",
       "      <td>...</td>\n",
       "      <td>...</td>\n",
       "      <td>...</td>\n",
       "      <td>...</td>\n",
       "      <td>...</td>\n",
       "      <td>...</td>\n",
       "      <td>...</td>\n",
       "    </tr>\n",
       "    <tr>\n",
       "      <th>1305</th>\n",
       "      <td>NaN</td>\n",
       "      <td>3</td>\n",
       "      <td>Spector, Mr. Woolf</td>\n",
       "      <td>male</td>\n",
       "      <td>NaN</td>\n",
       "      <td>0</td>\n",
       "      <td>0</td>\n",
       "      <td>A.5. 3236</td>\n",
       "      <td>8.0500</td>\n",
       "      <td>NaN</td>\n",
       "      <td>S</td>\n",
       "    </tr>\n",
       "    <tr>\n",
       "      <th>1306</th>\n",
       "      <td>NaN</td>\n",
       "      <td>1</td>\n",
       "      <td>Oliva y Ocana, Dona. Fermina</td>\n",
       "      <td>female</td>\n",
       "      <td>39.0</td>\n",
       "      <td>0</td>\n",
       "      <td>0</td>\n",
       "      <td>PC 17758</td>\n",
       "      <td>108.9000</td>\n",
       "      <td>C105</td>\n",
       "      <td>C</td>\n",
       "    </tr>\n",
       "    <tr>\n",
       "      <th>1307</th>\n",
       "      <td>NaN</td>\n",
       "      <td>3</td>\n",
       "      <td>Saether, Mr. Simon Sivertsen</td>\n",
       "      <td>male</td>\n",
       "      <td>38.5</td>\n",
       "      <td>0</td>\n",
       "      <td>0</td>\n",
       "      <td>SOTON/O.Q. 3101262</td>\n",
       "      <td>7.2500</td>\n",
       "      <td>NaN</td>\n",
       "      <td>S</td>\n",
       "    </tr>\n",
       "    <tr>\n",
       "      <th>1308</th>\n",
       "      <td>NaN</td>\n",
       "      <td>3</td>\n",
       "      <td>Ware, Mr. Frederick</td>\n",
       "      <td>male</td>\n",
       "      <td>NaN</td>\n",
       "      <td>0</td>\n",
       "      <td>0</td>\n",
       "      <td>359309</td>\n",
       "      <td>8.0500</td>\n",
       "      <td>NaN</td>\n",
       "      <td>S</td>\n",
       "    </tr>\n",
       "    <tr>\n",
       "      <th>1309</th>\n",
       "      <td>NaN</td>\n",
       "      <td>3</td>\n",
       "      <td>Peter, Master. Michael J</td>\n",
       "      <td>male</td>\n",
       "      <td>NaN</td>\n",
       "      <td>1</td>\n",
       "      <td>1</td>\n",
       "      <td>2668</td>\n",
       "      <td>22.3583</td>\n",
       "      <td>NaN</td>\n",
       "      <td>C</td>\n",
       "    </tr>\n",
       "  </tbody>\n",
       "</table>\n",
       "<p>1309 rows × 11 columns</p>\n",
       "</div>"
      ],
      "text/plain": [
       "             Survived  Pclass  \\\n",
       "PassengerId                     \n",
       "1                 0.0       3   \n",
       "2                 1.0       1   \n",
       "3                 1.0       3   \n",
       "4                 1.0       1   \n",
       "5                 0.0       3   \n",
       "...               ...     ...   \n",
       "1305              NaN       3   \n",
       "1306              NaN       1   \n",
       "1307              NaN       3   \n",
       "1308              NaN       3   \n",
       "1309              NaN       3   \n",
       "\n",
       "                                                          Name     Sex   Age  \\\n",
       "PassengerId                                                                    \n",
       "1                                      Braund, Mr. Owen Harris    male  22.0   \n",
       "2            Cumings, Mrs. John Bradley (Florence Briggs Th...  female  38.0   \n",
       "3                                       Heikkinen, Miss. Laina  female  26.0   \n",
       "4                 Futrelle, Mrs. Jacques Heath (Lily May Peel)  female  35.0   \n",
       "5                                     Allen, Mr. William Henry    male  35.0   \n",
       "...                                                        ...     ...   ...   \n",
       "1305                                        Spector, Mr. Woolf    male   NaN   \n",
       "1306                              Oliva y Ocana, Dona. Fermina  female  39.0   \n",
       "1307                              Saether, Mr. Simon Sivertsen    male  38.5   \n",
       "1308                                       Ware, Mr. Frederick    male   NaN   \n",
       "1309                                  Peter, Master. Michael J    male   NaN   \n",
       "\n",
       "             SibSp  Parch              Ticket      Fare Cabin Embarked  \n",
       "PassengerId                                                             \n",
       "1                1      0           A/5 21171    7.2500   NaN        S  \n",
       "2                1      0            PC 17599   71.2833   C85        C  \n",
       "3                0      0    STON/O2. 3101282    7.9250   NaN        S  \n",
       "4                1      0              113803   53.1000  C123        S  \n",
       "5                0      0              373450    8.0500   NaN        S  \n",
       "...            ...    ...                 ...       ...   ...      ...  \n",
       "1305             0      0           A.5. 3236    8.0500   NaN        S  \n",
       "1306             0      0            PC 17758  108.9000  C105        C  \n",
       "1307             0      0  SOTON/O.Q. 3101262    7.2500   NaN        S  \n",
       "1308             0      0              359309    8.0500   NaN        S  \n",
       "1309             1      1                2668   22.3583   NaN        C  \n",
       "\n",
       "[1309 rows x 11 columns]"
      ]
     },
     "execution_count": 85,
     "metadata": {},
     "output_type": "execute_result"
    }
   ],
   "source": [
    "# Dataframe visualization\n",
    "df"
   ]
  },
  {
   "cell_type": "code",
   "execution_count": 86,
   "id": "d984de02-ecf1-4e2d-8a3b-9a3c6b9fff71",
   "metadata": {},
   "outputs": [
    {
     "name": "stdout",
     "output_type": "stream",
     "text": [
      "<class 'pandas.core.frame.DataFrame'>\n",
      "Int64Index: 1309 entries, 1 to 1309\n",
      "Data columns (total 11 columns):\n",
      " #   Column    Non-Null Count  Dtype  \n",
      "---  ------    --------------  -----  \n",
      " 0   Survived  891 non-null    float64\n",
      " 1   Pclass    1309 non-null   int64  \n",
      " 2   Name      1309 non-null   object \n",
      " 3   Sex       1309 non-null   object \n",
      " 4   Age       1046 non-null   float64\n",
      " 5   SibSp     1309 non-null   int64  \n",
      " 6   Parch     1309 non-null   int64  \n",
      " 7   Ticket    1309 non-null   object \n",
      " 8   Fare      1308 non-null   float64\n",
      " 9   Cabin     295 non-null    object \n",
      " 10  Embarked  1307 non-null   object \n",
      "dtypes: float64(3), int64(3), object(5)\n",
      "memory usage: 122.7+ KB\n"
     ]
    }
   ],
   "source": [
    "# Checking data types and missing values:\n",
    "df.info()"
   ]
  },
  {
   "cell_type": "code",
   "execution_count": 87,
   "id": "fdc832b8-e5c4-4d80-a6c3-56063aa7bbdf",
   "metadata": {},
   "outputs": [
    {
     "data": {
      "text/html": [
       "<div>\n",
       "<style scoped>\n",
       "    .dataframe tbody tr th:only-of-type {\n",
       "        vertical-align: middle;\n",
       "    }\n",
       "\n",
       "    .dataframe tbody tr th {\n",
       "        vertical-align: top;\n",
       "    }\n",
       "\n",
       "    .dataframe thead th {\n",
       "        text-align: right;\n",
       "    }\n",
       "</style>\n",
       "<table border=\"1\" class=\"dataframe\">\n",
       "  <thead>\n",
       "    <tr style=\"text-align: right;\">\n",
       "      <th></th>\n",
       "      <th>Survived</th>\n",
       "      <th>Pclass</th>\n",
       "      <th>Age</th>\n",
       "      <th>SibSp</th>\n",
       "      <th>Parch</th>\n",
       "      <th>Fare</th>\n",
       "    </tr>\n",
       "  </thead>\n",
       "  <tbody>\n",
       "    <tr>\n",
       "      <th>count</th>\n",
       "      <td>891.000000</td>\n",
       "      <td>1309.000000</td>\n",
       "      <td>1046.000000</td>\n",
       "      <td>1309.000000</td>\n",
       "      <td>1309.000000</td>\n",
       "      <td>1308.000000</td>\n",
       "    </tr>\n",
       "    <tr>\n",
       "      <th>mean</th>\n",
       "      <td>0.383838</td>\n",
       "      <td>2.294882</td>\n",
       "      <td>29.881138</td>\n",
       "      <td>0.498854</td>\n",
       "      <td>0.385027</td>\n",
       "      <td>33.295479</td>\n",
       "    </tr>\n",
       "    <tr>\n",
       "      <th>std</th>\n",
       "      <td>0.486592</td>\n",
       "      <td>0.837836</td>\n",
       "      <td>14.413493</td>\n",
       "      <td>1.041658</td>\n",
       "      <td>0.865560</td>\n",
       "      <td>51.758668</td>\n",
       "    </tr>\n",
       "    <tr>\n",
       "      <th>min</th>\n",
       "      <td>0.000000</td>\n",
       "      <td>1.000000</td>\n",
       "      <td>0.170000</td>\n",
       "      <td>0.000000</td>\n",
       "      <td>0.000000</td>\n",
       "      <td>0.000000</td>\n",
       "    </tr>\n",
       "    <tr>\n",
       "      <th>25%</th>\n",
       "      <td>0.000000</td>\n",
       "      <td>2.000000</td>\n",
       "      <td>21.000000</td>\n",
       "      <td>0.000000</td>\n",
       "      <td>0.000000</td>\n",
       "      <td>7.895800</td>\n",
       "    </tr>\n",
       "    <tr>\n",
       "      <th>50%</th>\n",
       "      <td>0.000000</td>\n",
       "      <td>3.000000</td>\n",
       "      <td>28.000000</td>\n",
       "      <td>0.000000</td>\n",
       "      <td>0.000000</td>\n",
       "      <td>14.454200</td>\n",
       "    </tr>\n",
       "    <tr>\n",
       "      <th>75%</th>\n",
       "      <td>1.000000</td>\n",
       "      <td>3.000000</td>\n",
       "      <td>39.000000</td>\n",
       "      <td>1.000000</td>\n",
       "      <td>0.000000</td>\n",
       "      <td>31.275000</td>\n",
       "    </tr>\n",
       "    <tr>\n",
       "      <th>max</th>\n",
       "      <td>1.000000</td>\n",
       "      <td>3.000000</td>\n",
       "      <td>80.000000</td>\n",
       "      <td>8.000000</td>\n",
       "      <td>9.000000</td>\n",
       "      <td>512.329200</td>\n",
       "    </tr>\n",
       "  </tbody>\n",
       "</table>\n",
       "</div>"
      ],
      "text/plain": [
       "         Survived       Pclass          Age        SibSp        Parch  \\\n",
       "count  891.000000  1309.000000  1046.000000  1309.000000  1309.000000   \n",
       "mean     0.383838     2.294882    29.881138     0.498854     0.385027   \n",
       "std      0.486592     0.837836    14.413493     1.041658     0.865560   \n",
       "min      0.000000     1.000000     0.170000     0.000000     0.000000   \n",
       "25%      0.000000     2.000000    21.000000     0.000000     0.000000   \n",
       "50%      0.000000     3.000000    28.000000     0.000000     0.000000   \n",
       "75%      1.000000     3.000000    39.000000     1.000000     0.000000   \n",
       "max      1.000000     3.000000    80.000000     8.000000     9.000000   \n",
       "\n",
       "              Fare  \n",
       "count  1308.000000  \n",
       "mean     33.295479  \n",
       "std      51.758668  \n",
       "min       0.000000  \n",
       "25%       7.895800  \n",
       "50%      14.454200  \n",
       "75%      31.275000  \n",
       "max     512.329200  "
      ]
     },
     "execution_count": 87,
     "metadata": {},
     "output_type": "execute_result"
    }
   ],
   "source": [
    "#Statistics of the numerical data: \n",
    "df.describe()"
   ]
  },
  {
   "cell_type": "code",
   "execution_count": 88,
   "id": "81b9805f",
   "metadata": {},
   "outputs": [],
   "source": [
    "## Remove comment to plot the relation of \"Survived\" with the rest of features\n",
    "\n",
    "#sns.pairplot(df, hue = \"Survived\")"
   ]
  },
  {
   "cell_type": "code",
   "execution_count": 89,
   "id": "5cd348f0",
   "metadata": {},
   "outputs": [
    {
     "name": "stdout",
     "output_type": "stream",
     "text": [
      "In our training data the survival rate is of 38.38%\n",
      "This plot shows as bars number of passengers for each value of Survived\n"
     ]
    },
    {
     "data": {
      "image/png": "[encoded data removed]",
      "text/plain": [
       "<Figure size 432x288 with 1 Axes>"
      ]
     },
     "metadata": {
      "needs_background": "light"
     },
     "output_type": "display_data"
    }
   ],
   "source": [
    "sns.countplot(x = \"Survived\", data = df)\n",
    "surv_per = df_titanic[\"Survived\"].sum()*100/df_titanic.shape[0]\n",
    "print(f\"In our training data the survival rate is of {surv_per:.02f}%\")\n",
    "print(\"This plot shows as bars number of passengers for each value of Survived\")"
   ]
  },
  {
   "cell_type": "markdown",
   "id": "73ed3b20",
   "metadata": {},
   "source": [
    "## Preparing the data <a class=\"anchor\" id=\"preparing\"></a>"
   ]
  },
  {
   "cell_type": "markdown",
   "id": "a2432e90",
   "metadata": {},
   "source": [
    "Some features require analysis and preparation:\n",
    "- **Age** has 263 missing values out of 1309 (around 20%); to fill them, the titles of each passenger in the **Name** feature will be used as a reference (example: \"Master\" is used for males under 13). Then data will be binned and one-hot encoded.\n",
    "- **SibSp** and **Parch** categories need to have their data distribution studied before being one-hot encoded.\n",
    "- **Embarked** has 2 missing values, which will be filled with the most frequent port, and then one-hot encoded.\n",
    "- **Fare** range is from 0 to 512.32 pounds: it will be binned and one hot-encoded.\n",
    "\n",
    "Straighforward one-hot encoding for:\n",
    "- **Pclass**: 3 categories -> 1st class, 2nd class, 3rd class\n",
    "- **Sex**: 2 categories -> Male, Female\n",
    "\n",
    "Removed features:\n",
    "- **Name**: Useful to fill missing values in **Age**, but not for modelling.\n",
    "- **Cabin**: Too many missing values, and with some redundancy with Passenger class. It would add several features which would make the model more prone to overfitting.\n",
    "- **Ticket**: The ticket system is quite erratic and does not give much relevant information. "
   ]
  },
  {
   "cell_type": "code",
   "execution_count": 90,
   "id": "1af07d33",
   "metadata": {},
   "outputs": [],
   "source": [
    "# Function used for most features that takes the feature, one-hot encodes it and removes the original column\n",
    "def categorize(label):\n",
    "    global df\n",
    "    # Dummies for \"label\"\n",
    "    df_temp = pd.get_dummies(df[label], prefix=label)\n",
    "\n",
    "    # Merge df with new dummy features\n",
    "    df = pd.concat([df, df_temp], axis=1)\n",
    "\n",
    "    # Remove 'label' column from df\n",
    "    df.drop(label, axis = 1, inplace=True)\n",
    "    \n",
    "    return"
   ]
  },
  {
   "cell_type": "markdown",
   "id": "77856cf8",
   "metadata": {},
   "source": [
    "### Numerical features <a class=\"anchor\" id=\"numerical\"></a>"
   ]
  },
  {
   "cell_type": "markdown",
   "id": "a9b71839-2781-4ba9-9878-bb8c502d2fba",
   "metadata": {},
   "source": [
    "#### *Age* <a class=\"anchor\" id=\"age\"></a>"
   ]
  },
  {
   "cell_type": "markdown",
   "id": "10037679-e06f-46a5-9b65-61f216b17243",
   "metadata": {},
   "source": [
    "In order to estimate the 177 missing values, passenger's **Name** can be taken as reference - most passengers have one of the following 4 titles:\n",
    "- *Mr*: Men older than 12 years.\n",
    "- *Mrs*: Married or widowed women.\n",
    "- *Master*: Men younger than 13 years.\n",
    "- *Miss*: Female children and unmarried women.\n",
    "\n",
    "The next cells calculate the <u>average age of people with the same title</u>, which will be used to fill the missing values. "
   ]
  },
  {
   "cell_type": "code",
   "execution_count": 91,
   "id": "dca22475",
   "metadata": {},
   "outputs": [
    {
     "name": "stdout",
     "output_type": "stream",
     "text": [
      "Total of missing entries for each title: \n"
     ]
    },
    {
     "data": {
      "text/html": [
       "<div>\n",
       "<style scoped>\n",
       "    .dataframe tbody tr th:only-of-type {\n",
       "        vertical-align: middle;\n",
       "    }\n",
       "\n",
       "    .dataframe tbody tr th {\n",
       "        vertical-align: top;\n",
       "    }\n",
       "\n",
       "    .dataframe thead th {\n",
       "        text-align: right;\n",
       "    }\n",
       "</style>\n",
       "<table border=\"1\" class=\"dataframe\">\n",
       "  <thead>\n",
       "    <tr style=\"text-align: right;\">\n",
       "      <th>Name</th>\n",
       "      <th>Dr</th>\n",
       "      <th>Master</th>\n",
       "      <th>Miss</th>\n",
       "      <th>Mr</th>\n",
       "      <th>Mrs</th>\n",
       "    </tr>\n",
       "  </thead>\n",
       "  <tbody>\n",
       "    <tr>\n",
       "      <th>count</th>\n",
       "      <td>1</td>\n",
       "      <td>8</td>\n",
       "      <td>50</td>\n",
       "      <td>176</td>\n",
       "      <td>28</td>\n",
       "    </tr>\n",
       "  </tbody>\n",
       "</table>\n",
       "</div>"
      ],
      "text/plain": [
       "Name   Dr  Master  Miss   Mr  Mrs\n",
       "count   1       8    50  176   28"
      ]
     },
     "execution_count": 91,
     "metadata": {},
     "output_type": "execute_result"
    }
   ],
   "source": [
    "# Function to remove name of all passengers, keeping only their title\n",
    "def onlykeeptitle(title):\n",
    "    global df\n",
    "    df.loc[df[\"Name\"].str.contains(f\"{title}. \"),\"Name\"] = title\n",
    "    return\n",
    "\n",
    "# Removal of names for the main titles\n",
    "for title in [\"Mr\",\"Mrs\",\"Miss\",\"Master\",\"Dr\"]:\n",
    "    onlykeeptitle(title)\n",
    "\n",
    "# Remove unique titles\n",
    "df.loc[df[\"Name\"].str.contains(\"Don. \"),\"Name\"] = \"Mr\"\n",
    "df.loc[df[\"Name\"].str.contains(\"Mme. \"),\"Name\"] = \"Miss\" # Mme. is a traditional french title for women\n",
    "df.loc[df[\"Name\"].str.contains(\"Mlle. \"),\"Name\"] = \"Mrs\" # Mlle. is a traditional french title for unmarried women\n",
    "df.loc[df[\"Name\"].str.contains(\"Jonkheer. \"),\"Name\"] = \"Mr\" # Jonkheer. is a traditional title for low nobility \n",
    "df.loc[df[\"Name\"].str.contains(\"Sir. \"),\"Name\"] = \"Mr\"\n",
    "df.loc[df[\"Name\"].str.contains(\"Ms. \"),\"Name\"] = \"Mrs\"\n",
    "df.loc[df[\"Name\"].str.contains(\"Countess. \"),\"Name\"] = \"Mrs\"\n",
    "df.loc[df[\"Name\"].str.contains(\"Dona. \"),\"Name\"] = \"Mrs\"\n",
    "df.loc[df[\"Name\"].str.contains(\"Capt. \"),\"Name\"] = \"Col\"\n",
    "df.loc[df[\"Name\"].str.contains(\"Col\"),\"Name\"] = \"Mr\"\n",
    "df.loc[df[\"Name\"].str.contains(\"Rev\"),\"Name\"] = \"Mr\"\n",
    "df.loc[df[\"Name\"].str.contains(\"Major\"),\"Name\"] = \"Mr\"\n",
    "\n",
    "missing_age = df[\"Age\"].isnull().groupby(df[\"Name\"]).sum().astype(int).reset_index(name=\"count\").set_index(\"Name\").transpose()\n",
    "print(f\"Total of missing entries for each title: \")\n",
    "missing_age"
   ]
  },
  {
   "cell_type": "code",
   "execution_count": 92,
   "id": "3f039c7d-8831-4675-ac4b-a3d6c9fac9a4",
   "metadata": {},
   "outputs": [
    {
     "name": "stdout",
     "output_type": "stream",
     "text": [
      "Average age for each name title:\n"
     ]
    },
    {
     "data": {
      "text/html": [
       "<div>\n",
       "<style scoped>\n",
       "    .dataframe tbody tr th:only-of-type {\n",
       "        vertical-align: middle;\n",
       "    }\n",
       "\n",
       "    .dataframe tbody tr th {\n",
       "        vertical-align: top;\n",
       "    }\n",
       "\n",
       "    .dataframe thead th {\n",
       "        text-align: right;\n",
       "    }\n",
       "</style>\n",
       "<table border=\"1\" class=\"dataframe\">\n",
       "  <thead>\n",
       "    <tr style=\"text-align: right;\">\n",
       "      <th>Name</th>\n",
       "      <th>Dr</th>\n",
       "      <th>Master</th>\n",
       "      <th>Miss</th>\n",
       "      <th>Mr</th>\n",
       "      <th>Mrs</th>\n",
       "    </tr>\n",
       "  </thead>\n",
       "  <tbody>\n",
       "    <tr>\n",
       "      <th>Age</th>\n",
       "      <td>43.571429</td>\n",
       "      <td>5.482642</td>\n",
       "      <td>21.787512</td>\n",
       "      <td>32.659204</td>\n",
       "      <td>36.856322</td>\n",
       "    </tr>\n",
       "  </tbody>\n",
       "</table>\n",
       "</div>"
      ],
      "text/plain": [
       "Name         Dr    Master       Miss         Mr        Mrs\n",
       "Age   43.571429  5.482642  21.787512  32.659204  36.856322"
      ]
     },
     "execution_count": 92,
     "metadata": {},
     "output_type": "execute_result"
    }
   ],
   "source": [
    "mean_age = df[[\"Name\",\"Age\"]].groupby([\"Name\"]).mean().transpose()\n",
    "print(\"Average age for each name title:\")\n",
    "mean_age"
   ]
  },
  {
   "cell_type": "code",
   "execution_count": 93,
   "id": "fecb1870",
   "metadata": {},
   "outputs": [],
   "source": [
    "# Function to replace missing NaN values in \"Age\" with the corresponding title average \n",
    "def fill_age(title):\n",
    "    global df\n",
    "    global mean_age\n",
    "    df.loc[(np.isnan(df[\"Age\"])) & (df[\"Name\"]==title), \"Age\"] = mean_age.loc[\"Age\",title]\n",
    "    \n",
    "for title in [\"Dr\",\"Mr\",\"Mrs\",\"Miss\",\"Master\"]:\n",
    "        fill_age(title)"
   ]
  },
  {
   "cell_type": "markdown",
   "id": "0d9835c5",
   "metadata": {},
   "source": [
    "Now that all missing values have been filled, data will be binned:"
   ]
  },
  {
   "cell_type": "code",
   "execution_count": 94,
   "id": "98ef485c",
   "metadata": {},
   "outputs": [
    {
     "data": {
      "text/plain": [
       "Text(0.5, 1.0, 'Age bins')"
      ]
     },
     "execution_count": 94,
     "metadata": {},
     "output_type": "execute_result"
    },
    {
     "data": {
      "image/png": "[encoded data removed]",
      "text/plain": [
       "<Figure size 432x288 with 1 Axes>"
      ]
     },
     "metadata": {
      "needs_background": "light"
     },
     "output_type": "display_data"
    }
   ],
   "source": [
    "# Histogram of age distribution\n",
    "plt.hist(df[\"Age\"])\n",
    "\n",
    "plt.xlabel(\"Age\")\n",
    "plt.ylabel(\"Count\")\n",
    "plt.title(\"Age bins\")"
   ]
  },
  {
   "cell_type": "markdown",
   "id": "7bc8a29d",
   "metadata": {},
   "source": [
    "Ages go from 0.17 to 80, with most passengers between 20 and 40 years old. Data will be binned as *15 intervals of 5 years*: (0-9], (10-19], ..., (65-70],(70 and more]\n",
    "\n",
    "This options was chosen after studying the Chi-Square P-value for different intervals.:"
   ]
  },
  {
   "cell_type": "code",
   "execution_count": 95,
   "id": "589210cf",
   "metadata": {},
   "outputs": [
    {
     "name": "stdout",
     "output_type": "stream",
     "text": [
      "The P-Value of the Chi-Square Test for 15 intervals is: 6.537566557277512e-05\n",
      "\n",
      "Number of passengers who survived according to their age group:\n"
     ]
    },
    {
     "data": {
      "text/html": [
       "<div>\n",
       "<style scoped>\n",
       "    .dataframe tbody tr th:only-of-type {\n",
       "        vertical-align: middle;\n",
       "    }\n",
       "\n",
       "    .dataframe tbody tr th {\n",
       "        vertical-align: top;\n",
       "    }\n",
       "\n",
       "    .dataframe thead th {\n",
       "        text-align: right;\n",
       "    }\n",
       "</style>\n",
       "<table border=\"1\" class=\"dataframe\">\n",
       "  <thead>\n",
       "    <tr style=\"text-align: right;\">\n",
       "      <th>age</th>\n",
       "      <th>(0, 5]</th>\n",
       "      <th>(5, 10]</th>\n",
       "      <th>(10, 15]</th>\n",
       "      <th>(15, 20]</th>\n",
       "      <th>(20, 25]</th>\n",
       "      <th>(25, 30]</th>\n",
       "      <th>(30, 35]</th>\n",
       "      <th>(35, 40]</th>\n",
       "      <th>(40, 45]</th>\n",
       "      <th>(45, 50]</th>\n",
       "      <th>(50, 55]</th>\n",
       "      <th>(55, 60]</th>\n",
       "      <th>(60, 65]</th>\n",
       "      <th>(65, 70]</th>\n",
       "      <th>(70, 75]</th>\n",
       "    </tr>\n",
       "    <tr>\n",
       "      <th>Survived</th>\n",
       "      <th></th>\n",
       "      <th></th>\n",
       "      <th></th>\n",
       "      <th></th>\n",
       "      <th></th>\n",
       "      <th></th>\n",
       "      <th></th>\n",
       "      <th></th>\n",
       "      <th></th>\n",
       "      <th></th>\n",
       "      <th></th>\n",
       "      <th></th>\n",
       "      <th></th>\n",
       "      <th></th>\n",
       "      <th></th>\n",
       "    </tr>\n",
       "  </thead>\n",
       "  <tbody>\n",
       "    <tr>\n",
       "      <th>0.0</th>\n",
       "      <td>13</td>\n",
       "      <td>15</td>\n",
       "      <td>8</td>\n",
       "      <td>63</td>\n",
       "      <td>94</td>\n",
       "      <td>66</td>\n",
       "      <td>152</td>\n",
       "      <td>42</td>\n",
       "      <td>31</td>\n",
       "      <td>23</td>\n",
       "      <td>14</td>\n",
       "      <td>11</td>\n",
       "      <td>10</td>\n",
       "      <td>3</td>\n",
       "      <td>4</td>\n",
       "    </tr>\n",
       "    <tr>\n",
       "      <th>1.0</th>\n",
       "      <td>31</td>\n",
       "      <td>9</td>\n",
       "      <td>11</td>\n",
       "      <td>33</td>\n",
       "      <td>64</td>\n",
       "      <td>42</td>\n",
       "      <td>55</td>\n",
       "      <td>42</td>\n",
       "      <td>17</td>\n",
       "      <td>16</td>\n",
       "      <td>10</td>\n",
       "      <td>7</td>\n",
       "      <td>4</td>\n",
       "      <td>0</td>\n",
       "      <td>1</td>\n",
       "    </tr>\n",
       "  </tbody>\n",
       "</table>\n",
       "</div>"
      ],
      "text/plain": [
       "age       (0, 5]  (5, 10]  (10, 15]  (15, 20]  (20, 25]  (25, 30]  (30, 35]  \\\n",
       "Survived                                                                      \n",
       "0.0           13       15         8        63        94        66       152   \n",
       "1.0           31        9        11        33        64        42        55   \n",
       "\n",
       "age       (35, 40]  (40, 45]  (45, 50]  (50, 55]  (55, 60]  (60, 65]  \\\n",
       "Survived                                                               \n",
       "0.0             42        31        23        14        11        10   \n",
       "1.0             42        17        16        10         7         4   \n",
       "\n",
       "age       (65, 70]  (70, 75]  \n",
       "Survived                      \n",
       "0.0              3         4  \n",
       "1.0              0         1  "
      ]
     },
     "execution_count": 95,
     "metadata": {},
     "output_type": "execute_result"
    }
   ],
   "source": [
    "df.loc[df[\"Age\"]>70,\"Age\"] = 71 # Prepare data to group passengers over 70 years old in the same category\n",
    "\n",
    "# Chi-Square P-value\n",
    "bins = [5*i for i in range(16)]\n",
    "df[\"age\"] = pd.cut(df[\"Age\"] , bins=bins)\n",
    "Crosstab_age=pd.crosstab(index=df[\"age\"],columns=df[\"Survived\"])\n",
    "ChiSq_age = chi2_contingency(Crosstab_age)\n",
    "print(\"The P-Value of the Chi-Square Test for 15 intervals is:\", ChiSq_age[1])\n",
    "\n",
    "# Crosstab of number of \"Survived\" values according to age groups\n",
    "Crosstab_age=pd.crosstab(index=df['age'],columns=df['Survived'])\n",
    "print(f\"\\nNumber of passengers who survived according to their age group:\")\n",
    "Crosstab_age.transpose()"
   ]
  },
  {
   "cell_type": "code",
   "execution_count": 96,
   "id": "a515ec84",
   "metadata": {},
   "outputs": [
    {
     "name": "stdout",
     "output_type": "stream",
     "text": [
      "Percentage of passengers who survived according to their age group\n"
     ]
    },
    {
     "data": {
      "text/html": [
       "<div>\n",
       "<style scoped>\n",
       "    .dataframe tbody tr th:only-of-type {\n",
       "        vertical-align: middle;\n",
       "    }\n",
       "\n",
       "    .dataframe tbody tr th {\n",
       "        vertical-align: top;\n",
       "    }\n",
       "\n",
       "    .dataframe thead th {\n",
       "        text-align: right;\n",
       "    }\n",
       "</style>\n",
       "<table border=\"1\" class=\"dataframe\">\n",
       "  <thead>\n",
       "    <tr style=\"text-align: right;\">\n",
       "      <th>age</th>\n",
       "      <th>(0, 5]</th>\n",
       "      <th>(5, 10]</th>\n",
       "      <th>(10, 15]</th>\n",
       "      <th>(15, 20]</th>\n",
       "      <th>(20, 25]</th>\n",
       "      <th>(25, 30]</th>\n",
       "      <th>(30, 35]</th>\n",
       "      <th>(35, 40]</th>\n",
       "      <th>(40, 45]</th>\n",
       "      <th>(45, 50]</th>\n",
       "      <th>(50, 55]</th>\n",
       "      <th>(55, 60]</th>\n",
       "      <th>(60, 65]</th>\n",
       "      <th>(65, 70]</th>\n",
       "      <th>(70, 75]</th>\n",
       "    </tr>\n",
       "    <tr>\n",
       "      <th>Survived</th>\n",
       "      <th></th>\n",
       "      <th></th>\n",
       "      <th></th>\n",
       "      <th></th>\n",
       "      <th></th>\n",
       "      <th></th>\n",
       "      <th></th>\n",
       "      <th></th>\n",
       "      <th></th>\n",
       "      <th></th>\n",
       "      <th></th>\n",
       "      <th></th>\n",
       "      <th></th>\n",
       "      <th></th>\n",
       "      <th></th>\n",
       "    </tr>\n",
       "  </thead>\n",
       "  <tbody>\n",
       "    <tr>\n",
       "      <th>0.0</th>\n",
       "      <td>30.0</td>\n",
       "      <td>62.0</td>\n",
       "      <td>42.0</td>\n",
       "      <td>66.0</td>\n",
       "      <td>59.0</td>\n",
       "      <td>61.0</td>\n",
       "      <td>73.0</td>\n",
       "      <td>50.0</td>\n",
       "      <td>65.0</td>\n",
       "      <td>59.0</td>\n",
       "      <td>58.0</td>\n",
       "      <td>61.0</td>\n",
       "      <td>71.0</td>\n",
       "      <td>100.0</td>\n",
       "      <td>80.0</td>\n",
       "    </tr>\n",
       "    <tr>\n",
       "      <th>1.0</th>\n",
       "      <td>70.0</td>\n",
       "      <td>38.0</td>\n",
       "      <td>58.0</td>\n",
       "      <td>34.0</td>\n",
       "      <td>41.0</td>\n",
       "      <td>39.0</td>\n",
       "      <td>27.0</td>\n",
       "      <td>50.0</td>\n",
       "      <td>35.0</td>\n",
       "      <td>41.0</td>\n",
       "      <td>42.0</td>\n",
       "      <td>39.0</td>\n",
       "      <td>29.0</td>\n",
       "      <td>0.0</td>\n",
       "      <td>20.0</td>\n",
       "    </tr>\n",
       "  </tbody>\n",
       "</table>\n",
       "</div>"
      ],
      "text/plain": [
       "age       (0, 5]  (5, 10]  (10, 15]  (15, 20]  (20, 25]  (25, 30]  (30, 35]  \\\n",
       "Survived                                                                      \n",
       "0.0         30.0     62.0      42.0      66.0      59.0      61.0      73.0   \n",
       "1.0         70.0     38.0      58.0      34.0      41.0      39.0      27.0   \n",
       "\n",
       "age       (35, 40]  (40, 45]  (45, 50]  (50, 55]  (55, 60]  (60, 65]  \\\n",
       "Survived                                                               \n",
       "0.0           50.0      65.0      59.0      58.0      61.0      71.0   \n",
       "1.0           50.0      35.0      41.0      42.0      39.0      29.0   \n",
       "\n",
       "age       (65, 70]  (70, 75]  \n",
       "Survived                      \n",
       "0.0          100.0      80.0  \n",
       "1.0            0.0      20.0  "
      ]
     },
     "execution_count": 96,
     "metadata": {},
     "output_type": "execute_result"
    }
   ],
   "source": [
    "# Crosstab of percentage of \"Survived\" values according to age groups\n",
    "Crosstab_age_per=pd.crosstab(index=df['age'],columns=df['Survived'], normalize=\"index\")\\\n",
    ".round(2)*100\n",
    "print(f\"Percentage of passengers who survived according to their age group\")\n",
    "Crosstab_age_per.transpose()"
   ]
  },
  {
   "cell_type": "code",
   "execution_count": 97,
   "id": "1f6ab646",
   "metadata": {},
   "outputs": [],
   "source": [
    "categorize(\"age\")\n",
    "\n",
    "df.drop(\"Age\", axis = 1, inplace=True)\n",
    "\n",
    "df.rename(columns={\"age_(70, 75]\":\"age_70+\"},inplace=True)"
   ]
  },
  {
   "cell_type": "markdown",
   "id": "3c1469df",
   "metadata": {},
   "source": [
    "#### Fare <a class=\"anchor\" id=\"fare\"></a>"
   ]
  },
  {
   "cell_type": "markdown",
   "id": "1542a9f6",
   "metadata": {},
   "source": [
    "This table shows how fares were organised for the trip:\n",
    "\n",
    "<center><b>Fare (pounds, 1912 prices)</b></center>\n",
    "\n",
    "|Class|Minimum|Lower Quartile|Median|Upper Quartile|Maximum|\n",
    "|---|---|---|---|---|---|\n",
    "|First|0.00|30.65|60.00|106.43|512.33|\n",
    "|Second|0.00|13.00|14.50|26.00|73.50|\n",
    "|Third|0.00|7.75|8.05|15.10|69.55|"
   ]
  },
  {
   "cell_type": "code",
   "execution_count": 98,
   "id": "0ade9be5",
   "metadata": {},
   "outputs": [
    {
     "data": {
      "text/plain": [
       "Text(0.5, 1.0, 'Fare bins')"
      ]
     },
     "execution_count": 98,
     "metadata": {},
     "output_type": "execute_result"
    },
    {
     "data": {
      "image/png": "[encoded data removed]",
      "text/plain": [
       "<Figure size 432x288 with 1 Axes>"
      ]
     },
     "metadata": {
      "needs_background": "light"
     },
     "output_type": "display_data"
    }
   ],
   "source": [
    "# Histogram of \"Fare\"\n",
    "plt.hist(df[\"Fare\"])\n",
    "\n",
    "plt.xlabel(\"Fare\")\n",
    "plt.ylabel(\"Count\")\n",
    "plt.title(\"Fare bins\")"
   ]
  },
  {
   "cell_type": "markdown",
   "id": "30bb43c5",
   "metadata": {},
   "source": [
    "The histogram shows how most fares are between the 0-50 range, and how fares over 100 are scarce. Data will be:\n",
    "- Binned in intervals of 25:\n",
    "- Grouped in a same category from 300 value onwards"
   ]
  },
  {
   "cell_type": "code",
   "execution_count": 99,
   "id": "f2691c1f",
   "metadata": {},
   "outputs": [
    {
     "name": "stdout",
     "output_type": "stream",
     "text": [
      "Number of passengers for each fare bin: \n",
      "(0, 25]       804\n",
      "(25, 50]      247\n",
      "(50, 75]       95\n",
      "(75, 100]      61\n",
      "(100, 125]     17\n",
      "(125, 150]     16\n",
      "(150, 175]     13\n",
      "(175, 200]      0\n",
      "(200, 225]     13\n",
      "(225, 250]      8\n",
      "(250, 275]     13\n",
      "(275, 300]      0\n",
      "(300, 325]      4\n",
      "Name: fare, dtype: int64\n",
      "\n",
      "Percentage of \"Survived\" according to fare:\n"
     ]
    },
    {
     "data": {
      "text/html": [
       "<div>\n",
       "<style scoped>\n",
       "    .dataframe tbody tr th:only-of-type {\n",
       "        vertical-align: middle;\n",
       "    }\n",
       "\n",
       "    .dataframe tbody tr th {\n",
       "        vertical-align: top;\n",
       "    }\n",
       "\n",
       "    .dataframe thead th {\n",
       "        text-align: right;\n",
       "    }\n",
       "</style>\n",
       "<table border=\"1\" class=\"dataframe\">\n",
       "  <thead>\n",
       "    <tr style=\"text-align: right;\">\n",
       "      <th>fare</th>\n",
       "      <th>(0, 25]</th>\n",
       "      <th>(25, 50]</th>\n",
       "      <th>(50, 75]</th>\n",
       "      <th>(75, 100]</th>\n",
       "      <th>(100, 125]</th>\n",
       "      <th>(125, 150]</th>\n",
       "      <th>(150, 175]</th>\n",
       "      <th>(200, 225]</th>\n",
       "      <th>(225, 250]</th>\n",
       "      <th>(250, 275]</th>\n",
       "      <th>(300, 325]</th>\n",
       "    </tr>\n",
       "    <tr>\n",
       "      <th>Survived</th>\n",
       "      <th></th>\n",
       "      <th></th>\n",
       "      <th></th>\n",
       "      <th></th>\n",
       "      <th></th>\n",
       "      <th></th>\n",
       "      <th></th>\n",
       "      <th></th>\n",
       "      <th></th>\n",
       "      <th></th>\n",
       "      <th></th>\n",
       "    </tr>\n",
       "  </thead>\n",
       "  <tbody>\n",
       "    <tr>\n",
       "      <th>0.0</th>\n",
       "      <td>71.0</td>\n",
       "      <td>58.0</td>\n",
       "      <td>44.0</td>\n",
       "      <td>20.0</td>\n",
       "      <td>27.0</td>\n",
       "      <td>11.0</td>\n",
       "      <td>33.0</td>\n",
       "      <td>40.0</td>\n",
       "      <td>33.0</td>\n",
       "      <td>33.0</td>\n",
       "      <td>0.0</td>\n",
       "    </tr>\n",
       "    <tr>\n",
       "      <th>1.0</th>\n",
       "      <td>29.0</td>\n",
       "      <td>42.0</td>\n",
       "      <td>56.0</td>\n",
       "      <td>80.0</td>\n",
       "      <td>73.0</td>\n",
       "      <td>89.0</td>\n",
       "      <td>67.0</td>\n",
       "      <td>60.0</td>\n",
       "      <td>67.0</td>\n",
       "      <td>67.0</td>\n",
       "      <td>100.0</td>\n",
       "    </tr>\n",
       "  </tbody>\n",
       "</table>\n",
       "</div>"
      ],
      "text/plain": [
       "fare      (0, 25]  (25, 50]  (50, 75]  (75, 100]  (100, 125]  (125, 150]  \\\n",
       "Survived                                                                   \n",
       "0.0          71.0      58.0      44.0       20.0        27.0        11.0   \n",
       "1.0          29.0      42.0      56.0       80.0        73.0        89.0   \n",
       "\n",
       "fare      (150, 175]  (200, 225]  (225, 250]  (250, 275]  (300, 325]  \n",
       "Survived                                                              \n",
       "0.0             33.0        40.0        33.0        33.0         0.0  \n",
       "1.0             67.0        60.0        67.0        67.0       100.0  "
      ]
     },
     "execution_count": 99,
     "metadata": {},
     "output_type": "execute_result"
    }
   ],
   "source": [
    "# Prepare data to group passengers with fare over 300 in the same category\n",
    "df.loc[df[\"Fare\"]>300,\"Fare\"] = 301\n",
    "\n",
    "\n",
    "df[\"fare\"] = pd.cut(df[\"Fare\"] , bins=[25*i for i in range(14)])\n",
    "print(f\"Number of passengers for each fare bin: \")\n",
    "print(df[\"fare\"].value_counts().sort_index())\n",
    "\n",
    "Crosstabfare=pd.crosstab(index=df['fare'],columns=df['Survived'],normalize='index')\\\n",
    ".round(2)*100\n",
    "print('\\nPercentage of \"Survived\" according to fare:')\n",
    "Crosstabfare.transpose()"
   ]
  },
  {
   "cell_type": "code",
   "execution_count": 100,
   "id": "e5fb80bc",
   "metadata": {},
   "outputs": [],
   "source": [
    "categorize(\"fare\")\n",
    "\n",
    "df.drop(\"Fare\", axis = 1, inplace=True)\n",
    "\n",
    "df.rename(columns={\"fare_(300,325]\":\"fare_300+\"},inplace=True)"
   ]
  },
  {
   "cell_type": "markdown",
   "id": "e27176a8",
   "metadata": {},
   "source": [
    "#### Number of Siblings/Spouses <a class=\"anchor\" id=\"sibsp\"></a>"
   ]
  },
  {
   "cell_type": "markdown",
   "id": "382cbaf7",
   "metadata": {},
   "source": [
    "Let's have a look at percentage of passengers who survived according to the number of siblings/spouses on board:"
   ]
  },
  {
   "cell_type": "code",
   "execution_count": 101,
   "id": "ca6b0ae5",
   "metadata": {},
   "outputs": [
    {
     "name": "stdout",
     "output_type": "stream",
     "text": [
      "Number of passengers for each SibSp category:\n"
     ]
    },
    {
     "data": {
      "text/html": [
       "<div>\n",
       "<style scoped>\n",
       "    .dataframe tbody tr th:only-of-type {\n",
       "        vertical-align: middle;\n",
       "    }\n",
       "\n",
       "    .dataframe tbody tr th {\n",
       "        vertical-align: top;\n",
       "    }\n",
       "\n",
       "    .dataframe thead th {\n",
       "        text-align: right;\n",
       "    }\n",
       "</style>\n",
       "<table border=\"1\" class=\"dataframe\">\n",
       "  <thead>\n",
       "    <tr style=\"text-align: right;\">\n",
       "      <th></th>\n",
       "      <th>0</th>\n",
       "      <th>1</th>\n",
       "      <th>2</th>\n",
       "      <th>3</th>\n",
       "      <th>4</th>\n",
       "      <th>5</th>\n",
       "      <th>8</th>\n",
       "    </tr>\n",
       "  </thead>\n",
       "  <tbody>\n",
       "    <tr>\n",
       "      <th>SibSp</th>\n",
       "      <td>891</td>\n",
       "      <td>319</td>\n",
       "      <td>42</td>\n",
       "      <td>20</td>\n",
       "      <td>22</td>\n",
       "      <td>6</td>\n",
       "      <td>9</td>\n",
       "    </tr>\n",
       "  </tbody>\n",
       "</table>\n",
       "</div>"
      ],
      "text/plain": [
       "         0    1   2   3   4  5  8\n",
       "SibSp  891  319  42  20  22  6  9"
      ]
     },
     "execution_count": 101,
     "metadata": {},
     "output_type": "execute_result"
    }
   ],
   "source": [
    "# Values for each category\n",
    "print(\"Number of passengers for each SibSp category:\")\n",
    "df[\"SibSp\"].value_counts().sort_index().to_frame().transpose()"
   ]
  },
  {
   "cell_type": "code",
   "execution_count": 102,
   "id": "f336c3b9",
   "metadata": {},
   "outputs": [
    {
     "name": "stdout",
     "output_type": "stream",
     "text": [
      "Percentage of \"Survived\" according to SibSp:\n"
     ]
    },
    {
     "data": {
      "text/html": [
       "<div>\n",
       "<style scoped>\n",
       "    .dataframe tbody tr th:only-of-type {\n",
       "        vertical-align: middle;\n",
       "    }\n",
       "\n",
       "    .dataframe tbody tr th {\n",
       "        vertical-align: top;\n",
       "    }\n",
       "\n",
       "    .dataframe thead th {\n",
       "        text-align: right;\n",
       "    }\n",
       "</style>\n",
       "<table border=\"1\" class=\"dataframe\">\n",
       "  <thead>\n",
       "    <tr style=\"text-align: right;\">\n",
       "      <th>SibSp</th>\n",
       "      <th>0</th>\n",
       "      <th>1</th>\n",
       "      <th>2</th>\n",
       "      <th>3</th>\n",
       "      <th>4</th>\n",
       "      <th>5</th>\n",
       "      <th>8</th>\n",
       "    </tr>\n",
       "    <tr>\n",
       "      <th>Survived</th>\n",
       "      <th></th>\n",
       "      <th></th>\n",
       "      <th></th>\n",
       "      <th></th>\n",
       "      <th></th>\n",
       "      <th></th>\n",
       "      <th></th>\n",
       "    </tr>\n",
       "  </thead>\n",
       "  <tbody>\n",
       "    <tr>\n",
       "      <th>0.0</th>\n",
       "      <td>65.0</td>\n",
       "      <td>46.0</td>\n",
       "      <td>54.0</td>\n",
       "      <td>75.0</td>\n",
       "      <td>83.0</td>\n",
       "      <td>100.0</td>\n",
       "      <td>100.0</td>\n",
       "    </tr>\n",
       "    <tr>\n",
       "      <th>1.0</th>\n",
       "      <td>35.0</td>\n",
       "      <td>54.0</td>\n",
       "      <td>46.0</td>\n",
       "      <td>25.0</td>\n",
       "      <td>17.0</td>\n",
       "      <td>0.0</td>\n",
       "      <td>0.0</td>\n",
       "    </tr>\n",
       "  </tbody>\n",
       "</table>\n",
       "</div>"
      ],
      "text/plain": [
       "SibSp        0     1     2     3     4      5      8\n",
       "Survived                                            \n",
       "0.0       65.0  46.0  54.0  75.0  83.0  100.0  100.0\n",
       "1.0       35.0  54.0  46.0  25.0  17.0    0.0    0.0"
      ]
     },
     "execution_count": 102,
     "metadata": {},
     "output_type": "execute_result"
    }
   ],
   "source": [
    "print('Percentage of \"Survived\" according to SibSp:')\n",
    "CrosstabSibSp=pd.crosstab(index=df['SibSp'],columns=df['Survived'], normalize=\"index\")\\\n",
    ".round(2)*100\n",
    "CrosstabSibSp.transpose()"
   ]
  },
  {
   "cell_type": "markdown",
   "id": "ae241fb7",
   "metadata": {},
   "source": [
    "In conclusion: \n",
    "- Vast majority of passengers had none or only one sibling/spouse.\n",
    "- The total of passengers with 5 or more siblings/spouses is low (12 passengers) and all had *Survived* value 0\n",
    "\n",
    "In order to reduce the number of features, categories from 5 onwards will be merged into one."
   ]
  },
  {
   "cell_type": "code",
   "execution_count": 103,
   "id": "ecd1b952",
   "metadata": {},
   "outputs": [],
   "source": [
    "# Merge all people with 5+ siblings/spouses in same category\n",
    "df.loc[df[\"SibSp\"]>5,\"SibSp\"] = 5\n",
    "\n",
    "categorize(\"SibSp\")\n",
    "\n",
    "# Rename column \"SibSp_5\" to \"SibSp_5+\", as now it includes all passengers with 5 or more siblings/spouses\n",
    "df.rename(columns={\"SibSp_5\":\"SibSp_5+\"},inplace=True)"
   ]
  },
  {
   "cell_type": "markdown",
   "id": "97940fea",
   "metadata": {},
   "source": [
    "#### Number of Parents/Children  <a class=\"anchor\" id=\"parch\"></a>"
   ]
  },
  {
   "cell_type": "markdown",
   "id": "1f1e91ad",
   "metadata": {},
   "source": [
    "The study of this feature is similar to the previous one, *SibSp*:"
   ]
  },
  {
   "cell_type": "code",
   "execution_count": 104,
   "id": "016990a6",
   "metadata": {},
   "outputs": [
    {
     "name": "stdout",
     "output_type": "stream",
     "text": [
      "Number of passengers for each Parch category:\n"
     ]
    },
    {
     "data": {
      "text/plain": [
       "0    678\n",
       "1    118\n",
       "2     80\n",
       "3      5\n",
       "4      4\n",
       "5      5\n",
       "6      1\n",
       "Name: Parch, dtype: int64"
      ]
     },
     "execution_count": 104,
     "metadata": {},
     "output_type": "execute_result"
    }
   ],
   "source": [
    "# Values for each category\n",
    "print(\"Number of passengers for each Parch category:\")\n",
    "df_titanic[\"Parch\"].value_counts().sort_index()"
   ]
  },
  {
   "cell_type": "code",
   "execution_count": 105,
   "id": "817e502e",
   "metadata": {},
   "outputs": [
    {
     "name": "stdout",
     "output_type": "stream",
     "text": [
      "Percentage of \"Survived\" according to \"Parch\":\n"
     ]
    },
    {
     "data": {
      "text/html": [
       "<div>\n",
       "<style scoped>\n",
       "    .dataframe tbody tr th:only-of-type {\n",
       "        vertical-align: middle;\n",
       "    }\n",
       "\n",
       "    .dataframe tbody tr th {\n",
       "        vertical-align: top;\n",
       "    }\n",
       "\n",
       "    .dataframe thead th {\n",
       "        text-align: right;\n",
       "    }\n",
       "</style>\n",
       "<table border=\"1\" class=\"dataframe\">\n",
       "  <thead>\n",
       "    <tr style=\"text-align: right;\">\n",
       "      <th>Parch</th>\n",
       "      <th>0</th>\n",
       "      <th>1</th>\n",
       "      <th>2</th>\n",
       "      <th>3</th>\n",
       "      <th>4</th>\n",
       "      <th>5</th>\n",
       "      <th>6</th>\n",
       "    </tr>\n",
       "    <tr>\n",
       "      <th>Survived</th>\n",
       "      <th></th>\n",
       "      <th></th>\n",
       "      <th></th>\n",
       "      <th></th>\n",
       "      <th></th>\n",
       "      <th></th>\n",
       "      <th></th>\n",
       "    </tr>\n",
       "  </thead>\n",
       "  <tbody>\n",
       "    <tr>\n",
       "      <th>0</th>\n",
       "      <td>66.0</td>\n",
       "      <td>45.0</td>\n",
       "      <td>50.0</td>\n",
       "      <td>40.0</td>\n",
       "      <td>100.0</td>\n",
       "      <td>80.0</td>\n",
       "      <td>100.0</td>\n",
       "    </tr>\n",
       "    <tr>\n",
       "      <th>1</th>\n",
       "      <td>34.0</td>\n",
       "      <td>55.0</td>\n",
       "      <td>50.0</td>\n",
       "      <td>60.0</td>\n",
       "      <td>0.0</td>\n",
       "      <td>20.0</td>\n",
       "      <td>0.0</td>\n",
       "    </tr>\n",
       "  </tbody>\n",
       "</table>\n",
       "</div>"
      ],
      "text/plain": [
       "Parch        0     1     2     3      4     5      6\n",
       "Survived                                            \n",
       "0         66.0  45.0  50.0  40.0  100.0  80.0  100.0\n",
       "1         34.0  55.0  50.0  60.0    0.0  20.0    0.0"
      ]
     },
     "execution_count": 105,
     "metadata": {},
     "output_type": "execute_result"
    }
   ],
   "source": [
    "print('Percentage of \"Survived\" according to \"Parch\":')\n",
    "CrosstabParch=pd.crosstab(index=df_titanic['Parch'],columns=df_titanic['Survived'], normalize=\"index\")\\\n",
    ".round(2)*100\n",
    "CrosstabParch.transpose()"
   ]
  },
  {
   "cell_type": "code",
   "execution_count": 106,
   "id": "cd1ef31b",
   "metadata": {},
   "outputs": [],
   "source": [
    "# Merge all people with 6+ parents/children in the same category\n",
    "df.loc[df[\"Parch\"]>6,\"Parch\"] = 6\n",
    "\n",
    "categorize(\"Parch\")\n",
    "\n",
    "df.rename(columns={\"Parch_6\":\"Parch_6+\"},inplace=True)"
   ]
  },
  {
   "cell_type": "markdown",
   "id": "a7a7cace",
   "metadata": {},
   "source": [
    "### Categorical features  <a class=\"anchor\" id=\"categorical\"></a>"
   ]
  },
  {
   "cell_type": "markdown",
   "id": "9a92f563",
   "metadata": {},
   "source": [
    "#### *Embarked* feature <a class=\"anchor\" id=\"embarked\"></a>"
   ]
  },
  {
   "cell_type": "markdown",
   "id": "e32c3cf7",
   "metadata": {},
   "source": [
    "Titanic passengers embarked from 3 different ports: \n",
    "- C = Cherbourg \n",
    "- Q = Queenstown\n",
    "- S = Southampton\n",
    "\n",
    "The 2 missing values will be replaced by the most frequent port, which is Southampton (S), with a 72.44%."
   ]
  },
  {
   "cell_type": "code",
   "execution_count": 107,
   "id": "c6ab533f",
   "metadata": {},
   "outputs": [
    {
     "name": "stdout",
     "output_type": "stream",
     "text": [
      "S    69.93\n",
      "C    20.66\n",
      "Q     9.41\n",
      "Name: Embarked, dtype: float64\n"
     ]
    }
   ],
   "source": [
    "# Percentage of passengers of each port\n",
    "print(df[\"Embarked\"].value_counts(normalize=True)\\\n",
    ".round(4)*100)"
   ]
  },
  {
   "cell_type": "code",
   "execution_count": 108,
   "id": "4bbd3929",
   "metadata": {},
   "outputs": [
    {
     "name": "stdout",
     "output_type": "stream",
     "text": [
      "Number of passengers who survived depending on their embarcation port\n"
     ]
    },
    {
     "data": {
      "text/html": [
       "<div>\n",
       "<style scoped>\n",
       "    .dataframe tbody tr th:only-of-type {\n",
       "        vertical-align: middle;\n",
       "    }\n",
       "\n",
       "    .dataframe tbody tr th {\n",
       "        vertical-align: top;\n",
       "    }\n",
       "\n",
       "    .dataframe thead th {\n",
       "        text-align: right;\n",
       "    }\n",
       "</style>\n",
       "<table border=\"1\" class=\"dataframe\">\n",
       "  <thead>\n",
       "    <tr style=\"text-align: right;\">\n",
       "      <th>Survived</th>\n",
       "      <th>0.0</th>\n",
       "      <th>1.0</th>\n",
       "    </tr>\n",
       "    <tr>\n",
       "      <th>Embarked</th>\n",
       "      <th></th>\n",
       "      <th></th>\n",
       "    </tr>\n",
       "  </thead>\n",
       "  <tbody>\n",
       "    <tr>\n",
       "      <th>C</th>\n",
       "      <td>75</td>\n",
       "      <td>93</td>\n",
       "    </tr>\n",
       "    <tr>\n",
       "      <th>Q</th>\n",
       "      <td>47</td>\n",
       "      <td>30</td>\n",
       "    </tr>\n",
       "    <tr>\n",
       "      <th>S</th>\n",
       "      <td>427</td>\n",
       "      <td>219</td>\n",
       "    </tr>\n",
       "  </tbody>\n",
       "</table>\n",
       "</div>"
      ],
      "text/plain": [
       "Survived  0.0  1.0\n",
       "Embarked          \n",
       "C          75   93\n",
       "Q          47   30\n",
       "S         427  219"
      ]
     },
     "execution_count": 108,
     "metadata": {},
     "output_type": "execute_result"
    }
   ],
   "source": [
    "# Fill the 2 missing values with 'S'\n",
    "df['Embarked'].fillna('S',inplace=True)\n",
    "\n",
    "Crosstab_embarked=pd.crosstab(index=df['Embarked'],columns=df['Survived'])\n",
    "Crosstab_embarked_per=pd.crosstab(index=df['Embarked'],columns=df['Survived'], normalize=\"index\")\\\n",
    ".round(2)*100\n",
    "print(\"Number of passengers who survived depending on their embarcation port\")\n",
    "Crosstab_embarked"
   ]
  },
  {
   "cell_type": "code",
   "execution_count": 109,
   "id": "3c8043fc",
   "metadata": {},
   "outputs": [
    {
     "name": "stdout",
     "output_type": "stream",
     "text": [
      "The P-Value of the Chi-Square Test for Embarked: 2.3008626481449577e-06\n"
     ]
    }
   ],
   "source": [
    "ChiSq_embark = chi2_contingency(Crosstab_embarked)\n",
    "print(\"The P-Value of the Chi-Square Test for Embarked:\", ChiSq_embark[1])"
   ]
  },
  {
   "cell_type": "code",
   "execution_count": 110,
   "id": "a9f30077",
   "metadata": {},
   "outputs": [],
   "source": [
    "categorize(\"Embarked\")"
   ]
  },
  {
   "cell_type": "markdown",
   "id": "d014f010",
   "metadata": {},
   "source": [
    "#### *Pclass* feature <a class=\"anchor\" id=\"pclass\"></a>"
   ]
  },
  {
   "cell_type": "code",
   "execution_count": 111,
   "id": "03c14b56",
   "metadata": {},
   "outputs": [],
   "source": [
    "categorize('Pclass')"
   ]
  },
  {
   "cell_type": "markdown",
   "id": "dc96f0de",
   "metadata": {},
   "source": [
    "#### *Sex* feature <a class=\"anchor\" id=\"sex\"></a>"
   ]
  },
  {
   "cell_type": "code",
   "execution_count": 112,
   "id": "368c0bfc",
   "metadata": {},
   "outputs": [],
   "source": [
    "categorize('Sex')"
   ]
  },
  {
   "cell_type": "markdown",
   "id": "32958080",
   "metadata": {},
   "source": [
    "### Removed fetures: *Name*, *Ticket* and *cabin*  <a class=\"anchor\" id=\"drop\"></a>"
   ]
  },
  {
   "cell_type": "markdown",
   "id": "0b5ba19b",
   "metadata": {},
   "source": [
    "**Name** was useful to fill missing data but not for the model.\n",
    "\n",
    "**Ticket** numbering system does not provide good data for the model, as the numbering system was not consistent.\n",
    "\n",
    "The passenger's **Cabin** is located in one of the following decks:\n",
    "- *First class*: 36 cabins on deck A, 101 cabins on B, 134 cabins on C, 49 cabins on D, 4 cabins on E\n",
    "- *Second class*: 39 cabins in D, 65 cabins in E, 64 cabins on F\n",
    "- *Third class*:  few cabins on D, few cabins on E, F, G. Third class passengers were the majority of deaths after sinking as their rooms where located in the lowest areas, which flooded quickly.\n",
    "- *Other*: There was also the boat deck, where the lifeboats were positioned, and with cabins T, U, V, W, X, Y, Z. One passenger of the training set was in the T cabin.\n",
    "\n",
    "This feature has some issues:\n",
    "- Few training examples compared with the total of passengers (around 20%).\n",
    "- It has high redundancy with Passenger class.\n",
    "In order to reduce the number of features and to prevent overfitting, this feature is removed."
   ]
  },
  {
   "cell_type": "code",
   "execution_count": 113,
   "id": "7383c9e0",
   "metadata": {},
   "outputs": [],
   "source": [
    "df.drop(\"Name\", axis=1, inplace=True)"
   ]
  },
  {
   "cell_type": "code",
   "execution_count": 114,
   "id": "160d5a0c",
   "metadata": {},
   "outputs": [],
   "source": [
    "df.drop(\"Ticket\", axis=1, inplace=True)"
   ]
  },
  {
   "cell_type": "code",
   "execution_count": 115,
   "id": "626302d9",
   "metadata": {},
   "outputs": [
    {
     "data": {
      "text/plain": [
       "'\\n#Function to remove numbers in \"Cabin\" entries and keep only the deck number, not used\\ndef removenumbers(deck):\\n    global df\\n    df.loc[df[\"Cabin\"].str.contains(f\"^{deck}.\",na=False),\"Cabin\"] = deck\\n    return\\n\\nfor deck in [\"A\",\"B\",\"C\",\"D\",\"E\",\"F\",\"G\"]:\\n    removenumbers(deck)\\n    \\n# Numbers of used rooms in each deck\\ndf[\\'Cabin\\'].value_counts().sort_index()\\n'"
      ]
     },
     "execution_count": 115,
     "metadata": {},
     "output_type": "execute_result"
    }
   ],
   "source": [
    "\"\"\"\n",
    "#Function to remove numbers in \"Cabin\" entries and keep only the deck number, not used\n",
    "def removenumbers(deck):\n",
    "    global df\n",
    "    df.loc[df[\"Cabin\"].str.contains(f\"^{deck}.\",na=False),\"Cabin\"] = deck\n",
    "    return\n",
    "\n",
    "for deck in [\"A\",\"B\",\"C\",\"D\",\"E\",\"F\",\"G\"]:\n",
    "    removenumbers(deck)\n",
    "    \n",
    "# Numbers of used rooms in each deck\n",
    "df['Cabin'].value_counts().sort_index()\n",
    "\"\"\""
   ]
  },
  {
   "cell_type": "code",
   "execution_count": 116,
   "id": "3421df21",
   "metadata": {},
   "outputs": [],
   "source": [
    "df.drop(\"Cabin\", axis = 1, inplace=True)"
   ]
  },
  {
   "cell_type": "markdown",
   "id": "82267035",
   "metadata": {},
   "source": [
    "## Modelling <a class=\"anchor\" id=\"modelling\"></a> "
   ]
  },
  {
   "cell_type": "markdown",
   "id": "e4fda907",
   "metadata": {},
   "source": [
    "First the feature matrix X and target vector y are prepared. X will be split into X_train and X_test."
   ]
  },
  {
   "cell_type": "code",
   "execution_count": 117,
   "id": "61c44ce1",
   "metadata": {},
   "outputs": [
    {
     "name": "stdout",
     "output_type": "stream",
     "text": [
      "The data has 49 features\n",
      "X has dimension (891, 49)\n",
      "y has dimension (891,)\n",
      "w has dimension (49,)\n"
     ]
    }
   ],
   "source": [
    "    \"\"\"\n",
    "    Variables used for the model\n",
    "    \n",
    "    X : training set\n",
    "    y : target training set\n",
    "    w : initial weights\n",
    "    b : initial biased term\n",
    "    \"\"\"\n",
    "df_train = df.iloc[:891] # Data used for modelling\n",
    "df_challenge = df.iloc[891:] # Data used to complete the challenge - needs to be predicted\n",
    "\n",
    "y = np.array(df_train[\"Survived\"])\n",
    "y = y.astype(int)\n",
    "X = df_train.drop(\"Survived\", axis = 1)\n",
    "X = np.array(X)\n",
    "w = np.zeros(X.shape[1],dtype=float)\n",
    "b = 0.\n",
    "print(f\"The data has {df.shape[1]-1} features\")\n",
    "print(f'X has dimension {X.shape}')\n",
    "print(f'y has dimension {y.shape}')\n",
    "print(f'w has dimension {w.shape}')"
   ]
  },
  {
   "cell_type": "markdown",
   "id": "50151d49",
   "metadata": {},
   "source": [
    "The next cell studies through decision trees the importance of the different features:"
   ]
  },
  {
   "cell_type": "code",
   "execution_count": 118,
   "id": "f8d90696",
   "metadata": {},
   "outputs": [
    {
     "data": {
      "text/plain": [
       "'\\nfrom sklearn.tree import DecisionTreeClassifier\\ndt = DecisionTreeClassifier(random_state=0,criterion=\"entropy\",max_depth=10)\\ndt.fit(X,y)\\ns_columns = df_train.drop(\"Survived\", axis = 1)\\ns_columns = s_columns.reset_index().columns.tolist()\\ns_columns = pd.Series(s_columns[1:])\\n\\nf_importance = pd.Series(dt.feature_importances_)\\nf_importance = f_importance.round(decimals=5)\\n\\ndf_importance = pd.concat([s_columns,f_importance], axis=1)\\ndf_importance = df_importance.rename(columns = {0:\"Feature\",1:\"Importance\"}).set_index([\"Feature\"])\\n#df_importance.to_csv(\"Importance.csv\")\\ndf_importance.sort_values(\"Importance\",ascending=False)\\n'"
      ]
     },
     "execution_count": 118,
     "metadata": {},
     "output_type": "execute_result"
    }
   ],
   "source": [
    "\"\"\"\n",
    "from sklearn.tree import DecisionTreeClassifier\n",
    "dt = DecisionTreeClassifier(random_state=0,criterion=\"entropy\",max_depth=10)\n",
    "dt.fit(X,y)\n",
    "s_columns = df_train.drop(\"Survived\", axis = 1)\n",
    "s_columns = s_columns.reset_index().columns.tolist()\n",
    "s_columns = pd.Series(s_columns[1:])\n",
    "\n",
    "f_importance = pd.Series(dt.feature_importances_)\n",
    "f_importance = f_importance.round(decimals=5)\n",
    "\n",
    "df_importance = pd.concat([s_columns,f_importance], axis=1)\n",
    "df_importance = df_importance.rename(columns = {0:\"Feature\",1:\"Importance\"}).set_index([\"Feature\"])\n",
    "#df_importance.to_csv(\"Importance.csv\")\n",
    "df_importance.sort_values(\"Importance\",ascending=False)\n",
    "\"\"\""
   ]
  },
  {
   "cell_type": "code",
   "execution_count": 119,
   "id": "128262b6",
   "metadata": {},
   "outputs": [
    {
     "name": "stdout",
     "output_type": "stream",
     "text": [
      "Train set sizes -> X_train:(623, 49), y_train:(623,)\n",
      "Test set sizes -> X_test:(268, 49), y_test:(268,)\n"
     ]
    }
   ],
   "source": [
    "# Split the data in a training set (70%) and a test set (30%)\n",
    "X_train, X_test, y_train, y_test = train_test_split(X, y, test_size=0.3, random_state=1)\n",
    "print (f\"Train set sizes -> X_train:{X_train.shape}, y_train:{y_train.shape}\")\n",
    "print (f\"Test set sizes -> X_test:{X_test.shape}, y_test:{y_test.shape}\")"
   ]
  },
  {
   "cell_type": "markdown",
   "id": "04f8818b",
   "metadata": {},
   "source": [
    "### Logistic regression : Building and training the model <a class=\"anchor\" id=\"building\"></a> "
   ]
  },
  {
   "cell_type": "markdown",
   "id": "775aa564",
   "metadata": {},
   "source": [
    "The model is entirely coded in this section:\n",
    "- Alpha: The parameter for gradient descent was optimized to 3.625.\n",
    "- Lambda: The parameter for regularization was set as 0, as applying values to it did not benefit the model.\n",
    "- Iterations: Gradient descent estabilized at around 150 iterations with a cost function value of 0.3822.\n",
    "-  "
   ]
  },
  {
   "cell_type": "code",
   "execution_count": 120,
   "id": "29bb2a15",
   "metadata": {},
   "outputs": [],
   "source": [
    "# Sigmoid function\n",
    "def sigmoid(t):\n",
    "    value = 1/(1+np.exp(-t))\n",
    "    return value"
   ]
  },
  {
   "attachments": {
    "imagen.png": {
     "image/png": "[encoded data removed]"
    }
   },
   "cell_type": "markdown",
   "id": "a1940e87",
   "metadata": {},
   "source": [
    "Cost function for regularized logistic regression:\n",
    "![imagen.png](attachment:imagen.png)"
   ]
  },
  {
   "cell_type": "code",
   "execution_count": 121,
   "id": "c6ec919d",
   "metadata": {},
   "outputs": [],
   "source": [
    "def cost_lr_reg(X,y,w,b,reg_par):\n",
    "    \"\"\"\n",
    "    Computes cost of logistic function \n",
    "\n",
    "    Args:\n",
    "      X (ndarray (m,n)): Data, m examples with n features\n",
    "      y (ndarray (m,)) : target values\n",
    "      w (ndarray (n,)) : model parameters  \n",
    "      b (scalar)       : model parameter, biased term\n",
    "      reg_par (scalar) : regularization parameter\n",
    "      \n",
    "    Returns:\n",
    "      J_wb (scalar): vaue of cost function\n",
    "    \"\"\"\n",
    "    m = X.shape[0]\n",
    "    z_wb = np.dot(X,w)+b\n",
    "    f_wb = sigmoid(z_wb)\n",
    "    # Cost for logistic regression\n",
    "    cost = -(1/m)*(np.dot(np.log(f_wb),y)+np.dot(np.log(1-f_wb),1-y))\n",
    "    # Cost of regularization\n",
    "    reg_cost = (reg_par/(2*m))*np.dot(w,w)\n",
    "    # Total cost\n",
    "    J_wb = cost + reg_cost\n",
    "    \n",
    "    return J_wb"
   ]
  },
  {
   "attachments": {
    "imagen.png": {
     "image/png": "[encoded data removed]"
    }
   },
   "cell_type": "markdown",
   "id": "62cda491",
   "metadata": {},
   "source": [
    "Computing the gradient with regularization:\n",
    "![imagen.png](attachment:imagen.png)"
   ]
  },
  {
   "cell_type": "code",
   "execution_count": 122,
   "id": "0aacf8d2",
   "metadata": {},
   "outputs": [],
   "source": [
    "def compute_gradient_lr_reg(X,y,w,b,reg_par):\n",
    "    \"\"\"\n",
    "    Computes gradient of logistic function \n",
    "\n",
    "    Args:\n",
    "      X (ndarray (m,n)): Data, m examples with n features\n",
    "      y (ndarray (m,)) : target values\n",
    "      w (ndarray (n,)) : model parameters  \n",
    "      b (scalar)       : model parameter, biased term\n",
    "      reg_par            : Regularization parameter\n",
    "\n",
    "      \n",
    "    Returns:\n",
    "      J_wb (scalar): vaue of cost function\n",
    "    \"\"\"\n",
    "    m = X.shape[0]\n",
    "    w_t = w\n",
    "    b_t = b\n",
    "    z_wb = np.dot(X,w_t)+b_t\n",
    "    f_wb = sigmoid(z_wb)\n",
    "    \n",
    "    # Estimation of parcial derivatives\n",
    "    d_w = (1/m)*(np.dot(f_wb-y,X))+(reg_par/m)*w_t\n",
    "    d_b = (1/m)*sum(f_wb-y)\n",
    "    \n",
    "    return d_w,d_b"
   ]
  },
  {
   "attachments": {
    "imagen.png": {
     "image/png": "[encoded data removed]"
    }
   },
   "cell_type": "markdown",
   "id": "987c1bda",
   "metadata": {},
   "source": [
    "Gradient descent agorithm:\n",
    "![imagen.png](attachment:imagen.png)"
   ]
  },
  {
   "cell_type": "code",
   "execution_count": 123,
   "id": "3378c5c7",
   "metadata": {},
   "outputs": [],
   "source": [
    "def gradient_descent_lr_reg(X, y, w_in, b_in, alpha, reg_par, num_iters): \n",
    "    \"\"\"\n",
    "    Performs batch gradient descent\n",
    "    \n",
    "    Args:\n",
    "      X (ndarray (m,n)   : Data, m examples with n features\n",
    "      y (ndarray (m,))   : target values\n",
    "      w_in (ndarray (n,)): Initial values of model parameters  \n",
    "      b_in (scalar)      : Initial values of model parameter\n",
    "      alpha (float)      : Learning rate\n",
    "      reg_par            : Regularization parameter\n",
    "      num_iters (scalar) : number of iterations to run gradient descent\n",
    "      \n",
    "    Returns:\n",
    "      w (ndarray (n,))   : Updated values of parameters\n",
    "      b (scalar)         : Updated value of parameter \n",
    "    \"\"\"\n",
    "    # An array to store cost J and w's at each iteration primarily for graphing later\n",
    "    J_history = []\n",
    "    w = w_in\n",
    "    b = b_in\n",
    "    \n",
    "    for i in range(num_iters):\n",
    "        # Calculate the gradient and update the parameters\n",
    "        dj_dw, dj_db = compute_gradient_lr_reg(X, y, w, b, reg_par)   \n",
    "\n",
    "        # Update Parameters using w, b, alpha and gradient\n",
    "        w = w - alpha * dj_dw               \n",
    "        b = b - alpha * dj_db               \n",
    "     \n",
    "        # Save cost J at each iteration\n",
    "        if i<100000:      # prevent resource exhaustion \n",
    "            J_history.append( cost_lr_reg(X, y, w, b, reg_par) )\n",
    "    \"\"\"\n",
    "\n",
    "        # Print cost every at intervals 10 times or as many iterations if < 10\n",
    "        if i% np.ceil(num_iters / 10) == 0:\n",
    "            print(f\"Iteration {i:4d}: Cost {J_history[-1]}   \")\n",
    "       \"\"\"\n",
    "\n",
    "    return w, b, J_history         #return final w,b and J history for graphing\n"
   ]
  },
  {
   "cell_type": "code",
   "execution_count": 124,
   "id": "78991153",
   "metadata": {
    "scrolled": false
   },
   "outputs": [
    {
     "name": "stdout",
     "output_type": "stream",
     "text": [
      "For alpha 3.625 -> error 0.4010\n",
      "w = [ 2.12802312  1.0494082   0.09979051  0.29740653 -0.19896003 -0.34946255\n",
      " -0.25538787  0.01206089 -0.344948   -0.37028188 -0.54704283 -0.13355462\n",
      " -0.76028207 -0.64138955  0.01462016  0.27880456 -0.08155846  0.275648\n",
      "  0.4952225  -0.13634422  0.53408675 -0.64265192  0.         -0.31268986\n",
      " -0.31949757  0.51173152  0.          0.37799933  0.91837308  1.02466677\n",
      "  0.19950984 -1.25797459 -0.20504817 -0.67952693  0.06657249  0.34316356\n",
      "  0.17021874  0.38989577 -0.73741322  0.09254128 -0.32497862  0.12357944\n",
      "  0.1807336  -0.30431303  0.99482507  0.14816611 -1.14299118  1.3575451\n",
      " -1.3575451 ]\n",
      "b = -0.9144075285881313\n"
     ]
    }
   ],
   "source": [
    "# Training the model\n",
    "alpha = 3.625\n",
    "iterations = 10000\n",
    "reg_par = 1\n",
    "w_t,b_t,error_t = gradient_descent_lr_reg(X_train,y_train,w,b,alpha,reg_par,iterations)\n",
    "print(f'For alpha {alpha} -> error {error_t[-1]:.4f}\\nw = {w_t}\\nb = {b_t}')"
   ]
  },
  {
   "cell_type": "code",
   "execution_count": 125,
   "id": "b4d23ceb",
   "metadata": {},
   "outputs": [
    {
     "name": "stdout",
     "output_type": "stream",
     "text": [
      "The model has an accuracy of 77.61 on the test set\n"
     ]
    }
   ],
   "source": [
    "# Use of updated w,b parameters to predict yhat values of the test set\n",
    "yhat = sigmoid(np.dot(X_test,w_t)+b_t)\n",
    "\n",
    "yhat[yhat>0.5] = 1\n",
    "yhat[yhat<=0.5] = 0\n",
    "\n",
    "print(f\"The model has an accuracy of {(yhat == y_test).sum()*100/len(y_test):.2f} on the test set\")"
   ]
  },
  {
   "cell_type": "code",
   "execution_count": 126,
   "id": "b704fcae",
   "metadata": {
    "scrolled": true
   },
   "outputs": [
    {
     "data": {
      "image/png": "[encoded data removed]",
      "text/plain": [
       "<Figure size 432x288 with 1 Axes>"
      ]
     },
     "metadata": {
      "needs_background": "light"
     },
     "output_type": "display_data"
    }
   ],
   "source": [
    "plt.plot(range(0,300),error_t[:300], 'r')\n",
    "plt.title(\"Cost function of the logistic regression model\")\n",
    "plt.xlabel(\"Number of iterations\")\n",
    "plt.ylabel(\"Cost function\")\n",
    "plt.show()"
   ]
  },
  {
   "cell_type": "markdown",
   "id": "572092c8",
   "metadata": {},
   "source": [
    "From 150 iterations onwards the cost function stabilizes at around 0.3822."
   ]
  },
  {
   "cell_type": "markdown",
   "id": "15101571",
   "metadata": {},
   "source": [
    "Features are printed below with their parameter for the model - showing which features are more relevant to predict the outcome."
   ]
  },
  {
   "cell_type": "code",
   "execution_count": 127,
   "id": "58de2e4c",
   "metadata": {},
   "outputs": [
    {
     "data": {
      "text/html": [
       "<div>\n",
       "<style scoped>\n",
       "    .dataframe tbody tr th:only-of-type {\n",
       "        vertical-align: middle;\n",
       "    }\n",
       "\n",
       "    .dataframe tbody tr th {\n",
       "        vertical-align: top;\n",
       "    }\n",
       "\n",
       "    .dataframe thead th {\n",
       "        text-align: right;\n",
       "    }\n",
       "</style>\n",
       "<table border=\"1\" class=\"dataframe\">\n",
       "  <thead>\n",
       "    <tr style=\"text-align: right;\">\n",
       "      <th>Feature</th>\n",
       "      <th>age_(0, 5]</th>\n",
       "      <th>age_(5, 10]</th>\n",
       "      <th>age_(10, 15]</th>\n",
       "      <th>age_(15, 20]</th>\n",
       "      <th>age_(20, 25]</th>\n",
       "      <th>age_(25, 30]</th>\n",
       "      <th>age_(30, 35]</th>\n",
       "      <th>age_(35, 40]</th>\n",
       "      <th>age_(40, 45]</th>\n",
       "      <th>age_(45, 50]</th>\n",
       "      <th>...</th>\n",
       "      <th>Parch_5</th>\n",
       "      <th>Parch_6+</th>\n",
       "      <th>Embarked_C</th>\n",
       "      <th>Embarked_Q</th>\n",
       "      <th>Embarked_S</th>\n",
       "      <th>Pclass_1</th>\n",
       "      <th>Pclass_2</th>\n",
       "      <th>Pclass_3</th>\n",
       "      <th>Sex_female</th>\n",
       "      <th>Sex_male</th>\n",
       "    </tr>\n",
       "  </thead>\n",
       "  <tbody>\n",
       "    <tr>\n",
       "      <th>Weight</th>\n",
       "      <td>2.13</td>\n",
       "      <td>1.05</td>\n",
       "      <td>0.1</td>\n",
       "      <td>0.3</td>\n",
       "      <td>-0.2</td>\n",
       "      <td>-0.35</td>\n",
       "      <td>-0.26</td>\n",
       "      <td>0.01</td>\n",
       "      <td>-0.34</td>\n",
       "      <td>-0.37</td>\n",
       "      <td>...</td>\n",
       "      <td>0.09</td>\n",
       "      <td>-0.32</td>\n",
       "      <td>0.12</td>\n",
       "      <td>0.18</td>\n",
       "      <td>-0.3</td>\n",
       "      <td>0.99</td>\n",
       "      <td>0.15</td>\n",
       "      <td>-1.14</td>\n",
       "      <td>1.36</td>\n",
       "      <td>-1.36</td>\n",
       "    </tr>\n",
       "  </tbody>\n",
       "</table>\n",
       "<p>1 rows × 49 columns</p>\n",
       "</div>"
      ],
      "text/plain": [
       "Feature  age_(0, 5]  age_(5, 10]  age_(10, 15]  age_(15, 20]  age_(20, 25]  \\\n",
       "Weight         2.13         1.05           0.1           0.3          -0.2   \n",
       "\n",
       "Feature  age_(25, 30]  age_(30, 35]  age_(35, 40]  age_(40, 45]  age_(45, 50]  \\\n",
       "Weight          -0.35         -0.26          0.01         -0.34         -0.37   \n",
       "\n",
       "Feature  ...  Parch_5  Parch_6+  Embarked_C  Embarked_Q  Embarked_S  Pclass_1  \\\n",
       "Weight   ...     0.09     -0.32        0.12        0.18        -0.3      0.99   \n",
       "\n",
       "Feature  Pclass_2  Pclass_3  Sex_female  Sex_male  \n",
       "Weight       0.15     -1.14        1.36     -1.36  \n",
       "\n",
       "[1 rows x 49 columns]"
      ]
     },
     "execution_count": 127,
     "metadata": {},
     "output_type": "execute_result"
    }
   ],
   "source": [
    "w_updated = pd.Series(w_t)\n",
    "w_updated = w_updated.round(decimals=2)\n",
    "s_columns = df_train.drop(\"Survived\", axis = 1)\n",
    "s_columns = s_columns.reset_index().columns.tolist()\n",
    "s_columns = pd.Series(s_columns[1:])\n",
    "df_weight = pd.concat([s_columns,w_updated], axis=1)\n",
    "df_weight = df_weight.rename(columns = {0:\"Feature\",1:\"Weight\"}).set_index([\"Feature\"])\n",
    "df_weight.to_csv(\"Weights.csv\")\n",
    "df_weight.transpose()"
   ]
  },
  {
   "cell_type": "markdown",
   "id": "84ad7371",
   "metadata": {},
   "source": [
    "#### Learning curve <a class=\"anchor\" id=\"curve\"></a> "
   ]
  },
  {
   "attachments": {
    "imagen-2.png": {
     "image/png": "[encoded data removed]"
    },
    "imagen.png": {
     "image/png": "[encoded data removed]"
    }
   },
   "cell_type": "markdown",
   "id": "c7bb7d20",
   "metadata": {},
   "source": [
    "The learning curve compares the size of the training set used for the model with 2 values: the error of that training set and the error of the whole test set for that same model. This **shows if the model is underfitting or overfitting**.\n",
    "\n",
    "\n",
    "For logistic regression, the error used is defined as:\n",
    "![imagen-2.png](attachment:imagen-2.png)\n",
    "And the test error will be:\n",
    "![imagen.png](attachment:imagen.png)\n",
    "\n",
    "In this case, the model seemed to slightly overfit but, when removing or simplifying features, the test score got worse."
   ]
  },
  {
   "cell_type": "code",
   "execution_count": 128,
   "id": "dd5b4cfe",
   "metadata": {},
   "outputs": [],
   "source": [
    "bins = np.arange(10,630,10) \n",
    "err_train = []\n",
    "err_test = []\n",
    "alpha = 3.625\n",
    "iterations = 200\n",
    "reg_par = 0\n",
    "\n",
    "for interval in bins:\n",
    "    w_temp,b_temp,error_temp = gradient_descent_lr_reg(X_train[:interval],y_train[:interval],w,b,alpha,reg_par,iterations)\n",
    "    # error of the training set used for the model\n",
    "    yhat_train = sigmoid(np.dot(X_train[:interval],w_temp)+b_temp)\n",
    "    yhat_train[yhat_train>=0.5] = 1\n",
    "    yhat_train[yhat_train<0.5] = 0\n",
    "    err_train.append( (yhat_train != y_train[:interval]).sum()/interval )\n",
    "    \n",
    "    # error of the whole test set for the model\n",
    "    yhat_test = sigmoid(np.dot(X_test,w_temp)+b_temp)\n",
    "    yhat_test[yhat_test>=0.5] = 1\n",
    "    yhat_test[yhat_test<0.5] = 0\n",
    "    err_test.append( (yhat_test != y_test).sum()/len(y_test))"
   ]
  },
  {
   "cell_type": "code",
   "execution_count": 129,
   "id": "820ee6c4",
   "metadata": {},
   "outputs": [
    {
     "data": {
      "image/png": "[encoded data removed]",
      "text/plain": [
       "<Figure size 432x288 with 1 Axes>"
      ]
     },
     "metadata": {
      "needs_background": "light"
     },
     "output_type": "display_data"
    }
   ],
   "source": [
    "plt.plot(bins,err_train, 'r', label=\"Train error\")\n",
    "plt.plot(bins,err_test, 'b',label=\"Test error\")\n",
    "plt.title(\"Learning curve for Logistic Regression\")\n",
    "plt.xlabel(\"Training set size\")\n",
    "plt.ylabel(\"Error\")\n",
    "plt.legend(loc=\"upper right\")\n",
    "plt.show()"
   ]
  },
  {
   "cell_type": "markdown",
   "id": "4af6bcbd",
   "metadata": {},
   "source": [
    "#### Prediction of the challenge set <a class=\"anchor\" id=\"prediction\"></a> "
   ]
  },
  {
   "cell_type": "markdown",
   "id": "0be43686",
   "metadata": {},
   "source": [
    "This section outputs a csv file that is submitted to Kaggle and gives the accuracy score for the challenge set."
   ]
  },
  {
   "cell_type": "code",
   "execution_count": 130,
   "id": "0487d1bd",
   "metadata": {},
   "outputs": [
    {
     "name": "stdout",
     "output_type": "stream",
     "text": [
      "In our challenge data the model predicted a survival rate of 36.36%\n"
     ]
    }
   ],
   "source": [
    "X_challenge = np.array(df_challenge.drop(\"Survived\", axis = 1))\n",
    "\n",
    "# Use of updated w,b parameters to predict survival for challenge set\n",
    "yhat_challenge = sigmoid(np.dot(X_challenge,w_t)+b_t)\n",
    "\n",
    "yhat_challenge[yhat_challenge>=0.5] = 1\n",
    "yhat_challenge[yhat_challenge<0.5] = 0\n",
    "\n",
    "print(f\"In our challenge data the model predicted a survival rate of {yhat_challenge.sum()*100/len(yhat_challenge):.02f}%\")\n",
    "\n",
    "PassengerId = np.arange(892,1310)\n",
    "df_sol = pd.DataFrame(yhat_challenge,columns=[\"Survived\"]).set_index(PassengerId)\n",
    "df_sol.index.name = \"PassengerId\"\n",
    "df_sol = df_sol.astype({\"Survived\":int})\n",
    "\n",
    "df_sol.to_csv(\"Titanic_solution.csv\")"
   ]
  },
  {
   "cell_type": "markdown",
   "id": "faf0cd4f",
   "metadata": {},
   "source": [
    "**Challenge score with LR model: 0.77751**"
   ]
  },
  {
   "cell_type": "markdown",
   "id": "e102988c",
   "metadata": {},
   "source": [
    "### Logistic regression with scikit-learn <a class=\"anchor\" id=\"scikit\"></a> "
   ]
  },
  {
   "cell_type": "code",
   "execution_count": 131,
   "id": "9189d5d8",
   "metadata": {},
   "outputs": [],
   "source": [
    "from sklearn.linear_model import LogisticRegression\n",
    "from sklearn.metrics import jaccard_score"
   ]
  },
  {
   "cell_type": "markdown",
   "id": "9647683a",
   "metadata": {},
   "source": [
    "#### Algorithm with default parameters <a class=\"anchor\" id=\"default\"></a> "
   ]
  },
  {
   "cell_type": "code",
   "execution_count": 132,
   "id": "f1194a74",
   "metadata": {},
   "outputs": [
    {
     "name": "stdout",
     "output_type": "stream",
     "text": [
      "In our challenge data the model predicted a survival rate of 33.71%\n"
     ]
    }
   ],
   "source": [
    "# Instantiate the model (using the default parameters)\n",
    "logreg = LogisticRegression()\n",
    "\n",
    "# Fit the model with data\n",
    "logreg.fit(X_train, y_train)\n",
    "\n",
    "# Predictions for the training set\n",
    "y_pred = logreg.predict(X_train)\n",
    "\n",
    "# Matrix with a 2 component vector for each sample, with the probability of that sample being in class \"0\" or class \"1\"\n",
    "y_predicted_prob = logreg.predict_proba(X_train)\n",
    "\n",
    "print(f\"In our challenge data the model predicted a survival rate of {y_pred.sum()*100/len(y_pred):.02f}%\")"
   ]
  },
  {
   "cell_type": "code",
   "execution_count": 133,
   "id": "d60e7d76",
   "metadata": {},
   "outputs": [
    {
     "name": "stdout",
     "output_type": "stream",
     "text": [
      "Optimized parameters: [[ 2.12801576  1.04946462  0.10004359  0.29730961 -0.19893741 -0.34949891\n",
      "  -0.25540621  0.01201433 -0.3450996  -0.3703359  -0.54724478 -0.13369323\n",
      "  -0.76030427 -0.64115395  0.01448918  0.27923453 -0.08128567  0.27595118\n",
      "   0.49575755 -0.1359063   0.53470863 -0.64247617  0.         -0.31216869\n",
      "  -0.31937677  0.51149465  0.          0.37824972  0.91840441  1.02468228\n",
      "   0.19940819 -1.25779559 -0.20519778 -0.67983868  0.0663097   0.34299059\n",
      "   0.16997384  0.38971581 -0.73696096  0.0925963  -0.32496244  0.12348674\n",
      "   0.18049707 -0.30432097  0.99476997  0.14807185 -1.14317898  1.3573714\n",
      "  -1.35770856]]\n",
      "\n",
      "The score for the model is:\n",
      "Training set:0.841\n",
      "Test set:0.776\n"
     ]
    }
   ],
   "source": [
    "print(f\"Optimized parameters: {logreg.coef_}\\n\")\n",
    "print(f\"The score for the model is:\\nTraining set:{logreg.score(X_train,y_train):.03f}\\nTest set:{logreg.score(X_test,y_test):.03f}\")"
   ]
  },
  {
   "cell_type": "code",
   "execution_count": 134,
   "id": "1a194c50",
   "metadata": {},
   "outputs": [
    {
     "name": "stdout",
     "output_type": "stream",
     "text": [
      "              precision    recall  f1-score   support\n",
      "\n",
      "           0       0.86      0.90      0.88       396\n",
      "           1       0.80      0.74      0.77       227\n",
      "\n",
      "    accuracy                           0.84       623\n",
      "   macro avg       0.83      0.82      0.83       623\n",
      "weighted avg       0.84      0.84      0.84       623\n",
      "\n"
     ]
    }
   ],
   "source": [
    "from sklearn.metrics import classification_report\n",
    "# Classification report\n",
    "print(classification_report(y_train,y_pred))"
   ]
  },
  {
   "cell_type": "code",
   "execution_count": 135,
   "id": "c52b230c",
   "metadata": {},
   "outputs": [
    {
     "data": {
      "text/plain": [
       "array([[355,  41],\n",
       "       [ 58, 169]], dtype=int64)"
      ]
     },
     "execution_count": 135,
     "metadata": {},
     "output_type": "execute_result"
    }
   ],
   "source": [
    "from sklearn.metrics import confusion_matrix\n",
    "\n",
    "# Confusion matrix\n",
    "cm = confusion_matrix(y_train,y_pred)\n",
    "cm"
   ]
  },
  {
   "cell_type": "code",
   "execution_count": 136,
   "id": "b68d4cc9",
   "metadata": {},
   "outputs": [
    {
     "data": {
      "text/plain": [
       "array([[0.89646465, 0.10353535],\n",
       "       [0.25550661, 0.74449339]])"
      ]
     },
     "execution_count": 136,
     "metadata": {},
     "output_type": "execute_result"
    }
   ],
   "source": [
    "# Normalized confusion matrix\n",
    "cm_norm = cm / cm.sum(axis=1).reshape(-1,1)\n",
    "cm_norm"
   ]
  },
  {
   "cell_type": "code",
   "execution_count": 137,
   "id": "e2e3067f",
   "metadata": {},
   "outputs": [
    {
     "data": {
      "image/png": "[encoded data removed]",
      "text/plain": [
       "<Figure size 432x288 with 2 Axes>"
      ]
     },
     "metadata": {
      "needs_background": "light"
     },
     "output_type": "display_data"
    }
   ],
   "source": [
    "# Plot of confusion matrix\n",
    "ax = sns.heatmap(cm_norm, annot=True, cmap='Blues')\n",
    "\n",
    "ax.set_title('Confusion matrix\\n\\n');\n",
    "ax.set_xlabel('\\nPredicted Values')\n",
    "ax.set_ylabel('Actual Values ');\n",
    "\n",
    "## Ticket labels - List must be in alphabetical order\n",
    "ax.xaxis.set_ticklabels([0,1])\n",
    "ax.yaxis.set_ticklabels([0,1])\n",
    "\n",
    "## Display the visualization of the Confusion Matrix.\n",
    "plt.show()"
   ]
  },
  {
   "cell_type": "code",
   "execution_count": 138,
   "id": "9e967d99",
   "metadata": {},
   "outputs": [],
   "source": [
    "# False positives\n",
    "FP = cm.sum(axis=0) - np.diag(cm)\n",
    "\n",
    "# False negatives\n",
    "FN = cm.sum(axis=1) - np.diag(cm)\n",
    "\n",
    "# True positives\n",
    "TP = np.diag(cm)\n",
    "\n",
    "# True negatives\n",
    "TN = cm.sum() - (FP+FN+TP)"
   ]
  },
  {
   "cell_type": "code",
   "execution_count": 139,
   "id": "9e43997c",
   "metadata": {},
   "outputs": [
    {
     "name": "stdout",
     "output_type": "stream",
     "text": [
      "The True Positive Rate is [0.89646465 0.74449339], which is equivalent to the main diagonal of the confusion matrix\n",
      "The precision is [0.85956416 0.8047619 ], which tells how many of my predictions were correct (first number for 0's, second one for 1's)\n",
      "The False Positive Rate is [0.25550661 0.10353535]: is thesecondary diagonal of the confusion matrix\n",
      "The False Negative Rate is [0.10353535 0.25550661], which is the secondary diagonal of the confusion matrix\n",
      "\n",
      "The average TPR is 0.8204790192675655\n",
      "The average PPV is 0.8321630347054076\n",
      "The average FPR is 0.17952098073243447\n",
      "The average FPR is 0.17952098073243447\n"
     ]
    }
   ],
   "source": [
    "# Sensitivity, hit rate, recall or true positive rate\n",
    "TPR = TP / (TP+FN)\n",
    "print(f\"The True Positive Rate is {TPR}, which is equivalent to the main diagonal of the confusion matrix\")\n",
    "\n",
    "# Precision or positive predictive value\n",
    "PPV = TP / (TP+FP)\n",
    "print(f\"The precision is {PPV}, which tells how many of my predictions were correct (first number for 0's, second one for 1's)\")\n",
    "\n",
    "# False positive rate or false alarm rate\n",
    "FPR = FP / (FP+TN)\n",
    "print(f\"The False Positive Rate is {FPR}: is thesecondary diagonal of the confusion matrix\")\n",
    "\n",
    "# False negative rate or Miss rate\n",
    "FNR = FN / (FN+TP)\n",
    "print(f\"The False Negative Rate is {FNR}, which is the secondary diagonal of the confusion matrix\") \n",
    "\n",
    "print(f\"\\nThe average TPR is {TPR.sum()/2}\")\n",
    "print(f\"The average PPV is {PPV.sum()/2}\")\n",
    "print(f\"The average FPR is {FPR.sum()/2}\")\n",
    "print(f\"The average FPR is {FPR.sum()/2}\")\n"
   ]
  },
  {
   "cell_type": "code",
   "execution_count": 140,
   "id": "0405095d",
   "metadata": {},
   "outputs": [
    {
     "name": "stdout",
     "output_type": "stream",
     "text": [
      "The log loss in the training data is 0.3846436257107737\n",
      "The log loss in the test data is 0.5257640994975016\n"
     ]
    }
   ],
   "source": [
    "from sklearn.metrics import log_loss\n",
    "\n",
    "# Log loss on training data\n",
    "print(f\"The log loss in the training data is {log_loss(y_train,y_predicted_prob)}\")\n",
    "\n",
    "# Log loss on testing data\n",
    "y_predicted_prob_t = logreg.predict_proba(X_test)\n",
    "print(f\"The log loss in the test data is {log_loss(y_test,y_predicted_prob_t)}\")\n"
   ]
  },
  {
   "cell_type": "markdown",
   "id": "06d1759c",
   "metadata": {},
   "source": [
    "#### Algorithm with optimized parameter C <a class=\"anchor\" id=\"optimized\"></a> "
   ]
  },
  {
   "cell_type": "code",
   "execution_count": 141,
   "id": "4ef2b3f4",
   "metadata": {},
   "outputs": [
    {
     "name": "stdout",
     "output_type": "stream",
     "text": [
      "The CA of C parameter 1e-05 is 0.5708955223880597\n",
      "The log loss of C parameter 1e-05 is 0.6916214750535807\n",
      "\n"
     ]
    },
    {
     "data": {
      "image/png": "[encoded data removed]",
      "text/plain": [
       "<Figure size 432x288 with 2 Axes>"
      ]
     },
     "metadata": {
      "needs_background": "light"
     },
     "output_type": "display_data"
    },
    {
     "name": "stdout",
     "output_type": "stream",
     "text": [
      "The CA of C parameter 3.359818286283781e-05 is 0.5708955223880597\n",
      "The log loss of C parameter 3.359818286283781e-05 is 0.6909356540243091\n",
      "\n"
     ]
    },
    {
     "data": {
      "image/png": "[encoded data removed]",
      "text/plain": [
       "<Figure size 432x288 with 2 Axes>"
      ]
     },
     "metadata": {
      "needs_background": "light"
     },
     "output_type": "display_data"
    },
    {
     "name": "stdout",
     "output_type": "stream",
     "text": [
      "The CA of C parameter 0.00011288378916846884 is 0.5708955223880597\n",
      "The log loss of C parameter 0.00011288378916846884 is 0.6886669271177065\n",
      "\n"
     ]
    },
    {
     "data": {
      "image/png": "[encoded data removed]",
      "text/plain": [
       "<Figure size 432x288 with 2 Axes>"
      ]
     },
     "metadata": {
      "needs_background": "light"
     },
     "output_type": "display_data"
    },
    {
     "name": "stdout",
     "output_type": "stream",
     "text": [
      "The CA of C parameter 0.000379269019073225 is 0.5708955223880597\n",
      "The log loss of C parameter 0.000379269019073225 is 0.6814256885666982\n",
      "\n"
     ]
    },
    {
     "data": {
      "image/png": "[encoded data removed]",
      "text/plain": [
       "<Figure size 432x288 with 2 Axes>"
      ]
     },
     "metadata": {
      "needs_background": "light"
     },
     "output_type": "display_data"
    },
    {
     "name": "stdout",
     "output_type": "stream",
     "text": [
      "The CA of C parameter 0.0012742749857031334 is 0.5708955223880597\n",
      "The log loss of C parameter 0.0012742749857031334 is 0.6607576165842711\n",
      "\n"
     ]
    },
    {
     "data": {
      "image/png": "[encoded data removed]",
      "text/plain": [
       "<Figure size 432x288 with 2 Axes>"
      ]
     },
     "metadata": {
      "needs_background": "light"
     },
     "output_type": "display_data"
    },
    {
     "name": "stdout",
     "output_type": "stream",
     "text": [
      "The CA of C parameter 0.004281332398719391 is 0.6305970149253731\n",
      "The log loss of C parameter 0.004281332398719391 is 0.61693603895931\n",
      "\n"
     ]
    },
    {
     "data": {
      "image/png": "[encoded data removed]",
      "text/plain": [
       "<Figure size 432x288 with 2 Axes>"
      ]
     },
     "metadata": {
      "needs_background": "light"
     },
     "output_type": "display_data"
    },
    {
     "name": "stdout",
     "output_type": "stream",
     "text": [
      "The CA of C parameter 0.01438449888287663 is 0.7276119402985075\n",
      "The log loss of C parameter 0.01438449888287663 is 0.5635335904506099\n",
      "\n"
     ]
    },
    {
     "data": {
      "image/png": "[encoded data removed]",
      "text/plain": [
       "<Figure size 432x288 with 2 Axes>"
      ]
     },
     "metadata": {
      "needs_background": "light"
     },
     "output_type": "display_data"
    },
    {
     "name": "stdout",
     "output_type": "stream",
     "text": [
      "The CA of C parameter 0.04832930238571752 is 0.7425373134328358\n",
      "The log loss of C parameter 0.04832930238571752 is 0.5304478183084831\n",
      "\n"
     ]
    },
    {
     "data": {
      "image/png": "[encoded data removed]",
      "text/plain": [
       "<Figure size 432x288 with 2 Axes>"
      ]
     },
     "metadata": {
      "needs_background": "light"
     },
     "output_type": "display_data"
    },
    {
     "name": "stdout",
     "output_type": "stream",
     "text": [
      "The CA of C parameter 0.1623776739188721 is 0.7574626865671642\n",
      "The log loss of C parameter 0.1623776739188721 is 0.5208812584660168\n",
      "\n"
     ]
    },
    {
     "data": {
      "image/png": "[encoded data removed]",
      "text/plain": [
       "<Figure size 432x288 with 2 Axes>"
      ]
     },
     "metadata": {
      "needs_background": "light"
     },
     "output_type": "display_data"
    },
    {
     "name": "stdout",
     "output_type": "stream",
     "text": [
      "The CA of C parameter 0.5455594781168515 is 0.7723880597014925\n",
      "The log loss of C parameter 0.5455594781168515 is 0.5228263484260463\n",
      "\n"
     ]
    },
    {
     "data": {
      "image/png": "[encoded data removed]",
      "text/plain": [
       "<Figure size 432x288 with 2 Axes>"
      ]
     },
     "metadata": {
      "needs_background": "light"
     },
     "output_type": "display_data"
    },
    {
     "name": "stdout",
     "output_type": "stream",
     "text": [
      "The CA of C parameter 1.8329807108324339 is 0.7798507462686567\n",
      "The log loss of C parameter 1.8329807108324339 is 0.5296315259242174\n",
      "\n"
     ]
    },
    {
     "data": {
      "image/png": "[encoded data removed]",
      "text/plain": [
       "<Figure size 432x288 with 2 Axes>"
      ]
     },
     "metadata": {
      "needs_background": "light"
     },
     "output_type": "display_data"
    },
    {
     "name": "stdout",
     "output_type": "stream",
     "text": [
      "The CA of C parameter 6.1584821106602545 is 0.7835820895522388\n",
      "The log loss of C parameter 6.1584821106602545 is 0.5393708522080302\n",
      "\n"
     ]
    },
    {
     "data": {
      "image/png": "[encoded data removed]",
      "text/plain": [
       "<Figure size 432x288 with 2 Axes>"
      ]
     },
     "metadata": {
      "needs_background": "light"
     },
     "output_type": "display_data"
    },
    {
     "name": "stdout",
     "output_type": "stream",
     "text": [
      "The CA of C parameter 20.6913808111479 is 0.7835820895522388\n",
      "The log loss of C parameter 20.6913808111479 is 0.5492128042487221\n",
      "\n"
     ]
    },
    {
     "data": {
      "image/png": "[encoded data removed]",
      "text/plain": [
       "<Figure size 432x288 with 2 Axes>"
      ]
     },
     "metadata": {
      "needs_background": "light"
     },
     "output_type": "display_data"
    },
    {
     "name": "stdout",
     "output_type": "stream",
     "text": [
      "The CA of C parameter 69.51927961775606 is 0.7835820895522388\n",
      "The log loss of C parameter 69.51927961775606 is 0.5582244443081943\n",
      "\n"
     ]
    },
    {
     "data": {
      "image/png": "[encoded data removed]",
      "text/plain": [
       "<Figure size 432x288 with 2 Axes>"
      ]
     },
     "metadata": {
      "needs_background": "light"
     },
     "output_type": "display_data"
    },
    {
     "name": "stdout",
     "output_type": "stream",
     "text": [
      "The CA of C parameter 233.57214690901213 is 0.7835820895522388\n",
      "The log loss of C parameter 233.57214690901213 is 0.5666760606752779\n",
      "\n"
     ]
    },
    {
     "data": {
      "image/png": "[encoded data removed]",
      "text/plain": [
       "<Figure size 432x288 with 2 Axes>"
      ]
     },
     "metadata": {
      "needs_background": "light"
     },
     "output_type": "display_data"
    },
    {
     "name": "stdout",
     "output_type": "stream",
     "text": [
      "The CA of C parameter 784.7599703514607 is 0.7835820895522388\n",
      "The log loss of C parameter 784.7599703514607 is 0.5750298606500865\n",
      "\n"
     ]
    },
    {
     "data": {
      "image/png": "[encoded data removed]",
      "text/plain": [
       "<Figure size 432x288 with 2 Axes>"
      ]
     },
     "metadata": {
      "needs_background": "light"
     },
     "output_type": "display_data"
    },
    {
     "name": "stdout",
     "output_type": "stream",
     "text": [
      "The CA of C parameter 2636.6508987303555 is 0.7835820895522388\n",
      "The log loss of C parameter 2636.6508987303555 is 0.5826726927636972\n",
      "\n"
     ]
    },
    {
     "data": {
      "image/png": "[encoded data removed]",
      "text/plain": [
       "<Figure size 432x288 with 2 Axes>"
      ]
     },
     "metadata": {
      "needs_background": "light"
     },
     "output_type": "display_data"
    },
    {
     "name": "stdout",
     "output_type": "stream",
     "text": [
      "The CA of C parameter 8858.667904100832 is 0.7835820895522388\n",
      "The log loss of C parameter 8858.667904100832 is 0.5909266730809902\n",
      "\n"
     ]
    },
    {
     "data": {
      "image/png": "[encoded data removed]",
      "text/plain": [
       "<Figure size 432x288 with 2 Axes>"
      ]
     },
     "metadata": {
      "needs_background": "light"
     },
     "output_type": "display_data"
    },
    {
     "name": "stdout",
     "output_type": "stream",
     "text": [
      "The CA of C parameter 29763.51441631313 is 0.7835820895522388\n",
      "The log loss of C parameter 29763.51441631313 is 0.611304359186179\n",
      "\n"
     ]
    },
    {
     "data": {
      "image/png": "[encoded data removed]",
      "text/plain": [
       "<Figure size 432x288 with 2 Axes>"
      ]
     },
     "metadata": {
      "needs_background": "light"
     },
     "output_type": "display_data"
    },
    {
     "name": "stdout",
     "output_type": "stream",
     "text": [
      "The CA of C parameter 100000.0 is 0.7835820895522388\n",
      "The log loss of C parameter 100000.0 is 0.6174852743105805\n",
      "\n"
     ]
    },
    {
     "data": {
      "image/png": "[encoded data removed]",
      "text/plain": [
       "<Figure size 432x288 with 2 Axes>"
      ]
     },
     "metadata": {
      "needs_background": "light"
     },
     "output_type": "display_data"
    }
   ],
   "source": [
    "# Loop in order to find the optimum C value for the algorithm\n",
    "C_List = np.geomspace(1e-5,1e5,num=20) # List of C values to test\n",
    "CA = [] #Classification accuracy\n",
    "logarithmic_loss = []\n",
    "\n",
    "for c in C_List:\n",
    "    logreg2 = LogisticRegression(C = c,max_iter = 1000)\n",
    "    logreg2.fit(X_train,y_train)\n",
    "    score = logreg2.score(X_test,y_test)\n",
    "    CA.append(score)\n",
    "    print(f\"The CA of C parameter {c} is {score}\")\n",
    "    y_pred_prob_t = logreg2.predict_proba(X_test)\n",
    "    logloss2 = log_loss(y_test,y_pred_prob_t)\n",
    "    logarithmic_loss.append(logloss2)\n",
    "    print(f\"The log loss of C parameter {c} is {logloss2}\\n\")\n",
    "    \n",
    "    y_pred = logreg2.predict(X_train)\n",
    "    cm = confusion_matrix(y_train,y_pred)\n",
    "    cm_norm = cm / cm.sum(axis=1).reshape(-1,1)\n",
    "    ax = sns.heatmap(cm_norm, annot=True, cmap='Blues')\n",
    "\n",
    "    ax.set_title('Confusion matrix\\n\\n');\n",
    "    ax.set_xlabel('\\nPredicted Values')\n",
    "    ax.set_ylabel('Actual Values ');\n",
    "\n",
    "    ## Ticket labels - List must be in alphabetical order\n",
    "    ax.xaxis.set_ticklabels([0,1])\n",
    "    ax.yaxis.set_ticklabels([0,1])\n",
    "\n",
    "    ## Display the visualization of the Confusion Matrix for each C value\n",
    "    plt.show()"
   ]
  },
  {
   "cell_type": "code",
   "execution_count": 142,
   "id": "9c36192c",
   "metadata": {},
   "outputs": [],
   "source": [
    "CA2 = np.array(CA)\n",
    "logarithmic_loss2 = np.array(logarithmic_loss)\n",
    "outcomes = zip(C_List,CA2,logarithmic_loss2)\n",
    "df_outcomes = pd.DataFrame(outcomes,columns=[\"C\",\"CA\",\"Log_loss\"])"
   ]
  },
  {
   "cell_type": "code",
   "execution_count": 143,
   "id": "6b3338d6",
   "metadata": {
    "scrolled": true
   },
   "outputs": [
    {
     "data": {
      "text/html": [
       "<div>\n",
       "<style scoped>\n",
       "    .dataframe tbody tr th:only-of-type {\n",
       "        vertical-align: middle;\n",
       "    }\n",
       "\n",
       "    .dataframe tbody tr th {\n",
       "        vertical-align: top;\n",
       "    }\n",
       "\n",
       "    .dataframe thead th {\n",
       "        text-align: right;\n",
       "    }\n",
       "</style>\n",
       "<table border=\"1\" class=\"dataframe\">\n",
       "  <thead>\n",
       "    <tr style=\"text-align: right;\">\n",
       "      <th></th>\n",
       "      <th>C</th>\n",
       "      <th>CA</th>\n",
       "      <th>Log_loss</th>\n",
       "    </tr>\n",
       "  </thead>\n",
       "  <tbody>\n",
       "    <tr>\n",
       "      <th>0</th>\n",
       "      <td>0.000010</td>\n",
       "      <td>0.570896</td>\n",
       "      <td>0.691621</td>\n",
       "    </tr>\n",
       "    <tr>\n",
       "      <th>1</th>\n",
       "      <td>0.000034</td>\n",
       "      <td>0.570896</td>\n",
       "      <td>0.690936</td>\n",
       "    </tr>\n",
       "    <tr>\n",
       "      <th>2</th>\n",
       "      <td>0.000113</td>\n",
       "      <td>0.570896</td>\n",
       "      <td>0.688667</td>\n",
       "    </tr>\n",
       "    <tr>\n",
       "      <th>3</th>\n",
       "      <td>0.000379</td>\n",
       "      <td>0.570896</td>\n",
       "      <td>0.681426</td>\n",
       "    </tr>\n",
       "    <tr>\n",
       "      <th>4</th>\n",
       "      <td>0.001274</td>\n",
       "      <td>0.570896</td>\n",
       "      <td>0.660758</td>\n",
       "    </tr>\n",
       "    <tr>\n",
       "      <th>5</th>\n",
       "      <td>0.004281</td>\n",
       "      <td>0.630597</td>\n",
       "      <td>0.616936</td>\n",
       "    </tr>\n",
       "    <tr>\n",
       "      <th>6</th>\n",
       "      <td>0.014384</td>\n",
       "      <td>0.727612</td>\n",
       "      <td>0.563534</td>\n",
       "    </tr>\n",
       "    <tr>\n",
       "      <th>7</th>\n",
       "      <td>0.048329</td>\n",
       "      <td>0.742537</td>\n",
       "      <td>0.530448</td>\n",
       "    </tr>\n",
       "    <tr>\n",
       "      <th>8</th>\n",
       "      <td>0.162378</td>\n",
       "      <td>0.757463</td>\n",
       "      <td>0.520881</td>\n",
       "    </tr>\n",
       "    <tr>\n",
       "      <th>9</th>\n",
       "      <td>0.545559</td>\n",
       "      <td>0.772388</td>\n",
       "      <td>0.522826</td>\n",
       "    </tr>\n",
       "    <tr>\n",
       "      <th>10</th>\n",
       "      <td>1.832981</td>\n",
       "      <td>0.779851</td>\n",
       "      <td>0.529632</td>\n",
       "    </tr>\n",
       "    <tr>\n",
       "      <th>11</th>\n",
       "      <td>6.158482</td>\n",
       "      <td>0.783582</td>\n",
       "      <td>0.539371</td>\n",
       "    </tr>\n",
       "    <tr>\n",
       "      <th>12</th>\n",
       "      <td>20.691381</td>\n",
       "      <td>0.783582</td>\n",
       "      <td>0.549213</td>\n",
       "    </tr>\n",
       "    <tr>\n",
       "      <th>13</th>\n",
       "      <td>69.519280</td>\n",
       "      <td>0.783582</td>\n",
       "      <td>0.558224</td>\n",
       "    </tr>\n",
       "    <tr>\n",
       "      <th>14</th>\n",
       "      <td>233.572147</td>\n",
       "      <td>0.783582</td>\n",
       "      <td>0.566676</td>\n",
       "    </tr>\n",
       "    <tr>\n",
       "      <th>15</th>\n",
       "      <td>784.759970</td>\n",
       "      <td>0.783582</td>\n",
       "      <td>0.575030</td>\n",
       "    </tr>\n",
       "    <tr>\n",
       "      <th>16</th>\n",
       "      <td>2636.650899</td>\n",
       "      <td>0.783582</td>\n",
       "      <td>0.582673</td>\n",
       "    </tr>\n",
       "    <tr>\n",
       "      <th>17</th>\n",
       "      <td>8858.667904</td>\n",
       "      <td>0.783582</td>\n",
       "      <td>0.590927</td>\n",
       "    </tr>\n",
       "    <tr>\n",
       "      <th>18</th>\n",
       "      <td>29763.514416</td>\n",
       "      <td>0.783582</td>\n",
       "      <td>0.611304</td>\n",
       "    </tr>\n",
       "    <tr>\n",
       "      <th>19</th>\n",
       "      <td>100000.000000</td>\n",
       "      <td>0.783582</td>\n",
       "      <td>0.617485</td>\n",
       "    </tr>\n",
       "  </tbody>\n",
       "</table>\n",
       "</div>"
      ],
      "text/plain": [
       "                C        CA  Log_loss\n",
       "0        0.000010  0.570896  0.691621\n",
       "1        0.000034  0.570896  0.690936\n",
       "2        0.000113  0.570896  0.688667\n",
       "3        0.000379  0.570896  0.681426\n",
       "4        0.001274  0.570896  0.660758\n",
       "5        0.004281  0.630597  0.616936\n",
       "6        0.014384  0.727612  0.563534\n",
       "7        0.048329  0.742537  0.530448\n",
       "8        0.162378  0.757463  0.520881\n",
       "9        0.545559  0.772388  0.522826\n",
       "10       1.832981  0.779851  0.529632\n",
       "11       6.158482  0.783582  0.539371\n",
       "12      20.691381  0.783582  0.549213\n",
       "13      69.519280  0.783582  0.558224\n",
       "14     233.572147  0.783582  0.566676\n",
       "15     784.759970  0.783582  0.575030\n",
       "16    2636.650899  0.783582  0.582673\n",
       "17    8858.667904  0.783582  0.590927\n",
       "18   29763.514416  0.783582  0.611304\n",
       "19  100000.000000  0.783582  0.617485"
      ]
     },
     "execution_count": 143,
     "metadata": {},
     "output_type": "execute_result"
    }
   ],
   "source": [
    "df_outcomes"
   ]
  },
  {
   "cell_type": "code",
   "execution_count": 144,
   "id": "28d20c72",
   "metadata": {},
   "outputs": [
    {
     "name": "stdout",
     "output_type": "stream",
     "text": [
      "The score for the model is:\n",
      "Training set:0.835\n",
      "Test set:0.795\n"
     ]
    }
   ],
   "source": [
    "# Value with higher accuracy score and lowest log loss: C = 6.159\n",
    "logreg_best = LogisticRegression(C =  6.159,max_iter = 1000)\n",
    "\n",
    "\n",
    "# fit the model with data\n",
    "logreg_best.fit(X, y)\n",
    "\n",
    "yhat_sk = logreg_best.predict(X_challenge)\n",
    "\n",
    "print(f\"The score for the model is:\\nTraining set:{logreg_best.score(X_train,y_train):.03f}\\nTest set:{logreg_best.score(X_test,y_test):.03f}\")"
   ]
  },
  {
   "cell_type": "code",
   "execution_count": 145,
   "id": "dd4c7e6d",
   "metadata": {},
   "outputs": [],
   "source": [
    "# Creation of csv file for challenge submission\n",
    "df_sol_sk = pd.DataFrame(yhat_sk,columns=[\"Survived\"]).set_index(PassengerId)\n",
    "df_sol_sk.index.name = \"PassengerId\"\n",
    "df_sol_sk = df_sol_sk.astype({\"Survived\":int})\n",
    "df_sol_sk.to_csv(\"Titanic_solution_sk.csv\")"
   ]
  },
  {
   "cell_type": "markdown",
   "id": "5e4804c4",
   "metadata": {},
   "source": [
    "**Challenge score with sklearn LR model: 0.76555**"
   ]
  },
  {
   "cell_type": "markdown",
   "id": "672197ff",
   "metadata": {},
   "source": [
    "### Testing with a Dummy classifier"
   ]
  },
  {
   "cell_type": "markdown",
   "id": "b782bcef",
   "metadata": {},
   "source": [
    "Is good practice to test the model with a dummy classifier."
   ]
  },
  {
   "cell_type": "code",
   "execution_count": 146,
   "id": "114368f8",
   "metadata": {},
   "outputs": [
    {
     "name": "stdout",
     "output_type": "stream",
     "text": [
      "Testing accuracy: 0.5708955223880597\n",
      "Testing log loss: 14.820743602293764\n"
     ]
    }
   ],
   "source": [
    "from sklearn.dummy import DummyClassifier\n",
    "\n",
    "dummy_cls = DummyClassifier(strategy=\"most_frequent\")\n",
    "dummy_cls.fit(X_train,y_train)\n",
    "score = dummy_cls.score(X_test,y_test)\n",
    "\n",
    "y_pred_prob_t = dummy_cls.predict_proba(X_test)\n",
    "logloss3 = log_loss(y_test,y_pred_prob_t)\n",
    "\n",
    "print(f\"Testing accuracy: {score}\\nTesting log loss: {logloss3}\")\n"
   ]
  }
 ],
 "metadata": {
  "kernelspec": {
   "display_name": "Python 3 (ipykernel)",
   "language": "python",
   "name": "python3"
  },
  "language_info": {
   "codemirror_mode": {
    "name": "ipython",
    "version": 3
   },
   "file_extension": ".py",
   "mimetype": "text/x-python",
   "name": "python",
   "nbconvert_exporter": "python",
   "pygments_lexer": "ipython3",
   "version": "3.10.5"
  }
 },
 "nbformat": 4,
 "nbformat_minor": 5
}
